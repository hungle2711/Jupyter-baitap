{
 "cells": [
  {
   "cell_type": "code",
   "execution_count": 1,
   "id": "f170083f",
   "metadata": {},
   "outputs": [
    {
     "name": "stdout",
     "output_type": "stream",
     "text": [
      "Nhấp oC: 10\n",
      "10.00 độ C to 50.00 độ F\n"
     ]
    }
   ],
   "source": [
    "C = float(input(\"Nhấp oC: \"))\n",
    "\n",
    "F = (C * 1.8) + 32\n",
    "\n",
    "print(\"%0.2f độ C to %0.2f độ F\" %(C,F))"
   ]
  },
  {
   "cell_type": "code",
   "execution_count": null,
   "id": "36f0dbf1",
   "metadata": {},
   "outputs": [],
   "source": []
  }
 ],
 "metadata": {
  "kernelspec": {
   "display_name": "Python 3 (ipykernel)",
   "language": "python",
   "name": "python3"
  },
  "language_info": {
   "codemirror_mode": {
    "name": "ipython",
    "version": 3
   },
   "file_extension": ".py",
   "mimetype": "text/x-python",
   "name": "python",
   "nbconvert_exporter": "python",
   "pygments_lexer": "ipython3",
   "version": "3.9.12"
  }
 },
 "nbformat": 4,
 "nbformat_minor": 5
}
