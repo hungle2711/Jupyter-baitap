{
 "cells": [
  {
   "cell_type": "code",
   "execution_count": 1,
   "id": "2ec2c4b7",
   "metadata": {},
   "outputs": [],
   "source": [
    "import turtle\n",
    "#define pen size\n",
    "turtle.pensize(5) \n",
    " \n",
    "#define pen color\n",
    "turtle.pencolor(\"Blue\") \n",
    "#for outer bigger circle\n",
    "facesize = 200\n",
    "turtle.penup()\n",
    "turtle.goto(0, -200)\n",
    "turtle.pendown()\n",
    "turtle.circle(facesize)\n",
    "#for eyes\n",
    "#Màu nền mắt là màu đỏ\n",
    "turtle.fillcolor (\"red\")\n",
    "turtle.penup()\n",
    "turtle.goto(-100,50)\n",
    "turtle.pendown()\n",
    " \n",
    "# khai bao bien eyesize lưu kích thước mắt\n",
    "eye_size = 17.5\n",
    " \n",
    "turtle.begin_fill()\n",
    "turtle.circle(eye_size)\n",
    "turtle.end_fill()\n",
    "turtle.penup()\n",
    " \n",
    "turtle.goto(100,50)\n",
    "turtle.pendown()\n",
    "turtle.begin_fill()\n",
    "turtle.circle(eye_size)\n",
    "turtle.end_fill()\n",
    "#for nose\n",
    "turtle.penup ()\n",
    "turtle.goto(0,50)\n",
    "turtle.pendown()\n",
    "turtle.circle(-70, steps=3)\n",
    "# for smile\n",
    "turtle.penup()\n",
    "turtle.goto(-100, -70)\n",
    "turtle.pendown()\n",
    "turtle.right(90)\n",
    "turtle.circle(100,180)\n",
    "turtle.mainloop()"
   ]
  },
  {
   "cell_type": "code",
   "execution_count": null,
   "id": "c6fc7205",
   "metadata": {},
   "outputs": [],
   "source": []
  }
 ],
 "metadata": {
  "kernelspec": {
   "display_name": "Python 3 (ipykernel)",
   "language": "python",
   "name": "python3"
  },
  "language_info": {
   "codemirror_mode": {
    "name": "ipython",
    "version": 3
   },
   "file_extension": ".py",
   "mimetype": "text/x-python",
   "name": "python",
   "nbconvert_exporter": "python",
   "pygments_lexer": "ipython3",
   "version": "3.9.12"
  }
 },
 "nbformat": 4,
 "nbformat_minor": 5
}
