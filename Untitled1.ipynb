{
 "cells": [
  {
   "cell_type": "code",
   "execution_count": null,
   "id": "98763414",
   "metadata": {},
   "outputs": [],
   "source": [
    "import tkinter as tk\n",
    "from tkinter import ttk\n",
    "\n",
    "man_hinh_chinh = tk.Tk()\n",
    "man_hinh_chinh.title('Demo')\n",
    "man_hinh_chinh.geometry('500x500')\n",
    "\n",
    "username = ttk.Label(man_hinh_chinh, text = 'Username:')\n",
    "username.grid(row = 0, column = 0, pady=10, sticky='W')\n",
    "\n",
    "email = ttk.Label(man_hinh_chinh, text = 'Email:')\n",
    "email.grid(row = 1, column = 0, pady =10, sticky='W')\n",
    "\n",
    "password = ttk.Label(man_hinh_chinh, text = 'Password:')\n",
    "password.grid(row = 2, column = 0, pady=10, sticky='W')\n",
    "\n",
    "entry1 = ttk.Entry(man_hinh_chinh)\n",
    "entry1.grid(row=0, column=1)\n",
    "entry2 = ttk.Entry(man_hinh_chinh)\n",
    "entry2.grid(row=1, column=1)\n",
    "entry3 = ttk.Entry(man_hinh_chinh)\n",
    "entry3.grid(row=2, column=1)\n",
    "\n",
    "\n",
    "\n",
    "\n",
    "man_hinh_chinh.mainloop()"
   ]
  },
  {
   "cell_type": "code",
   "execution_count": null,
   "id": "1b999b5d",
   "metadata": {},
   "outputs": [],
   "source": [
    "import tkinter as tk\n",
    "from tkinter import ttk\n",
    "\n",
    "\n",
    "root = tk.Tk()\n",
    "root.title('Demo')\n",
    "root.geometry('300x300')\n",
    "\n",
    "style = ttk.Style(root)\n",
    "print(style.theme_names())\n",
    "print(style.theme_use())\n",
    "style.theme_use('default')\n",
    "\n",
    "#row 1\n",
    "frame1 = ttk.Frame(root)\n",
    "frame1.pack(side='top', fill='x')\n",
    "\n",
    "label1 = ttk.Label(\n",
    "    frame1,\n",
    "    text = 'Username',\n",
    "    anchor = tk.CENTER\n",
    ")\n",
    "label1.pack(side='left')\n",
    "entry1 = ttk.Entry(frame1)\n",
    "entry1.pack(side='left')\n",
    "\n",
    "\n",
    "#row2\n",
    "\n",
    "frame2 = ttk.Frame(root)\n",
    "frame2.pack(side='top', fill='x')\n",
    "\n",
    "label2 = ttk.Label(\n",
    "    frame2,\n",
    "    text = 'Password',\n",
    "    anchor = tk.CENTER\n",
    ")\n",
    "label2.pack(side='left')\n",
    "entry2 = ttk.Entry(frame2)\n",
    "entry2.pack(side='left')\n",
    "\n",
    "\n",
    "\n",
    "\n",
    "tk.mainloop()"
   ]
  },
  {
   "cell_type": "code",
   "execution_count": 3,
   "id": "cfa07abc",
   "metadata": {},
   "outputs": [
    {
     "name": "stdout",
     "output_type": "stream",
     "text": [
      "Clicked\n",
      "Clicked\n",
      "Clicked\n"
     ]
    }
   ],
   "source": [
    "import tkinter as tk\n",
    "from tkinter import ttk\n",
    "\n",
    "\n",
    "root = tk.Tk()\n",
    "root.title('Demo')\n",
    "root.geometry('300x300')\n",
    "\n",
    "\n",
    "def handle_submit():\n",
    "    print('Clicked')\n",
    "    \n",
    "button1 = ttk.Button(root, text='Submit', command=handle_submit)\n",
    "button1.pack()\n",
    "\n",
    "text1 = tk.Text(root)\n",
    "text1.pack()\n",
    "\n",
    "tk.mainloop()"
   ]
  },
  {
   "cell_type": "code",
   "execution_count": null,
   "id": "b02595e6",
   "metadata": {},
   "outputs": [],
   "source": []
  }
 ],
 "metadata": {
  "kernelspec": {
   "display_name": "Python 3 (ipykernel)",
   "language": "python",
   "name": "python3"
  },
  "language_info": {
   "codemirror_mode": {
    "name": "ipython",
    "version": 3
   },
   "file_extension": ".py",
   "mimetype": "text/x-python",
   "name": "python",
   "nbconvert_exporter": "python",
   "pygments_lexer": "ipython3",
   "version": "3.9.12"
  }
 },
 "nbformat": 4,
 "nbformat_minor": 5
}
