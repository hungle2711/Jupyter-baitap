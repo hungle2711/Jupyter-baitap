{
 "cells": [
  {
   "cell_type": "code",
   "execution_count": 1,
   "id": "51865b53",
   "metadata": {},
   "outputs": [
    {
     "name": "stdout",
     "output_type": "stream",
     "text": [
      "Nhập tọa độ x1 cần sử dụng trong bài: 1\n",
      "Nhập tọa độ y1 cần sử dụng trong bài: 2\n",
      "Nhập tọa độ x2 cần sử dụng trong bài: 3\n",
      "Nhập tọa độ y1 cần sử dụng trong bài: 4\n",
      "Khoảng cách giữa hai điểm đã cho =  2.8284271247461903\n"
     ]
    }
   ],
   "source": [
    "import math\n",
    "X1 = float(input('Nhập tọa độ x1 cần sử dụng trong bài: '))\n",
    "Y1 = float(input('Nhập tọa độ y1 cần sử dụng trong bài: '))\n",
    "X2 = float(input('Nhập tọa độ x2 cần sử dụng trong bài: '))\n",
    "Y2 = float(input('Nhập tọa độ y1 cần sử dụng trong bài: '))\n",
    "\n",
    "MN = math.sqrt((X1-X2)**2+(Y1-Y2)**2)\n",
    "\n",
    "print('Khoảng cách giữa hai điểm đã cho = ', MN)"
   ]
  },
  {
   "cell_type": "code",
   "execution_count": 6,
   "id": "3ebdf1e9",
   "metadata": {},
   "outputs": [
    {
     "name": "stdout",
     "output_type": "stream",
     "text": [
      "With this much seconds: 3600000000\n",
      "We will have 41666 days, 16 hours, 0 minutes, 0 seconds\n"
     ]
    }
   ],
   "source": [
    "def change(time):   \n",
    "    seconds_to_minute   = 60\n",
    "    seconds_to_hour     = 60 * seconds_to_minute\n",
    "    seconds_to_day      = 24 * seconds_to_hour\n",
    " \n",
    "    days    =   time // seconds_to_day\n",
    "    time    %=  seconds_to_day\n",
    " \n",
    "    hours   =   time // seconds_to_hour\n",
    "    time    %=  seconds_to_hour\n",
    " \n",
    "    minutes =   time // seconds_to_minute\n",
    "    time    %=  seconds_to_minute\n",
    " \n",
    "    seconds = time\n",
    "    \n",
    "    print(\"We will have %d days, %d hours, %d minutes, %d seconds\" % (days, hours, minutes, seconds))\n",
    "time = int(input(\"With this much seconds: \" ))\n",
    "change(time)"
   ]
  },
  {
   "cell_type": "code",
   "execution_count": null,
   "id": "441a7887",
   "metadata": {},
   "outputs": [],
   "source": [
    "a = int(input('Nhập một số: '))\n",
    "print(((a - 100 <= 10 and a - 100 >=-10) or (a -200 <=10 and a -200 >=-10) and 'chênh không quá 10' or '')"
   ]
  },
  {
   "cell_type": "code",
   "execution_count": 1,
   "id": "dca8afcc",
   "metadata": {},
   "outputs": [
    {
     "name": "stdout",
     "output_type": "stream",
     "text": [
      "Nhập số nguyên thứ nhất: 1\n",
      "Nhập số nguyên thứ hai: 2\n",
      "Nhập số nguyên thứ ba: 3\n",
      "\n"
     ]
    }
   ],
   "source": [
    "a = int(input('Nhập số nguyên thứ nhất: '))\n",
    "b = int(input('Nhập số nguyên thứ hai: '))\n",
    "c = int(input('Nhập số nguyên thứ ba: '))\n",
    "\n",
    "t1 = min(a,b,c)\n",
    "t3 = max(a,b,c)\n",
    "t2 = print()"
   ]
  },
  {
   "cell_type": "code",
   "execution_count": null,
   "id": "9a76afeb",
   "metadata": {},
   "outputs": [],
   "source": []
  }
 ],
 "metadata": {
  "kernelspec": {
   "display_name": "Python 3 (ipykernel)",
   "language": "python",
   "name": "python3"
  },
  "language_info": {
   "codemirror_mode": {
    "name": "ipython",
    "version": 3
   },
   "file_extension": ".py",
   "mimetype": "text/x-python",
   "name": "python",
   "nbconvert_exporter": "python",
   "pygments_lexer": "ipython3",
   "version": "3.9.12"
  }
 },
 "nbformat": 4,
 "nbformat_minor": 5
}
