{
 "cells": [
  {
   "cell_type": "code",
   "execution_count": 1,
   "id": "415df996",
   "metadata": {},
   "outputs": [
    {
     "name": "stdout",
     "output_type": "stream",
     "text": [
      "55\n"
     ]
    }
   ],
   "source": [
    "#Bài 1:\n",
    "a = 5\n",
    "b = a\n",
    "if isinstance(a, int) and isinstance(b, int):\n",
    "    print( str(a) + str(b) )\n",
    "elif isinstance(a, str) and isinstance(b, str): \n",
    "    print( int(a) + int(b) )\n",
    "elif (isinstance(a, int) and isinstance(b, str)) or (isinstance(a, str) and isinstance(b, int)):\n",
    "    print('Dau khong hop le')"
   ]
  },
  {
   "cell_type": "code",
   "execution_count": 5,
   "id": "058dbfa9",
   "metadata": {},
   "outputs": [
    {
     "name": "stdout",
     "output_type": "stream",
     "text": [
      "Nhập số thứ nhất: 45\n",
      "Nhập số thứ hai: 54\n",
      "Nhập dấu biểu thức: -\n",
      "Giá trị của biểu thức 45.0 - 54.0 = -9.0\n"
     ]
    }
   ],
   "source": [
    "#Bài 2:\n",
    "a = float(input(\"Nhập số thứ nhất: \"))\n",
    "b = float(input(\"Nhập số thứ hai: \"))\n",
    "c = input(\"Nhập dấu biểu thức: \")\n",
    "\n",
    "if c == ('+'):\n",
    "    print(f\"Giá trị của biểu thức {a} + {b} =\", a + b)\n",
    "elif c == ('-'):\n",
    "    print(f\"Giá trị của biểu thức {a} - {b} =\", a - b)\n",
    "elif c == ('*'):\n",
    "    print(f\"Giá trị của biểu thức {a} * {b} =\", a * b)\n",
    "elif c == ('/'):\n",
    "    print(f\"Giá trị của biểu thức {a} / {b} =\", a / b) \n",
    "else:\n",
    "    print(\"lỗi phép tính\")"
   ]
  },
  {
   "cell_type": "code",
   "execution_count": 2,
   "id": "24f6d8ad",
   "metadata": {},
   "outputs": [
    {
     "name": "stdout",
     "output_type": "stream",
     "text": [
      "Nhập chuỗi 1: 1234\n",
      "Nhập chuỗi 2: dfgd\n",
      "Nhập 1 số bất kỳ: 2\n",
      "12gd và df34\n"
     ]
    }
   ],
   "source": [
    "#Bài 3\n",
    "chuoi1 = input(\"Nhập chuỗi 1: \")\n",
    "chuoi2 = input(\"Nhập chuỗi 2: \")\n",
    "n = int(input(\"Nhập 1 số bất kỳ: \"))\n",
    "\n",
    "if n <= 0:\n",
    "    print(\"n phải >0\")\n",
    "    \n",
    "else:\n",
    "    chuoi1_nt = chuoi1[:n]\n",
    "    chuoi1_ns = chuoi1[n:]\n",
    "\n",
    "    chuoi2_nt = chuoi2[:n]\n",
    "    chuoi2_ns = chuoi2[n:]\n",
    "\n",
    "    print(chuoi1_nt + chuoi2_ns, \"và\", chuoi2_nt + chuoi1_ns)"
   ]
  },
  {
   "cell_type": "code",
   "execution_count": 16,
   "id": "cbd79dd0",
   "metadata": {},
   "outputs": [
    {
     "name": "stdout",
     "output_type": "stream",
     "text": [
      "Nhập chuỗi của bạn: hunging\n",
      "hungly\n"
     ]
    }
   ],
   "source": [
    "#Bài 4 \n",
    "chuoi = input('Nhập chuỗi của bạn: ')\n",
    "\n",
    "if len(chuoi) < 3:\n",
    "    print(\"Chuỗi của bạn là: \", chuoi)\n",
    "else:\n",
    "    if chuoi[-3:] == \"ing\":   \n",
    "         print(chuoi[:-3] + 'ly')\n",
    "    else: \n",
    "        print(chuoi + \"ing\")"
   ]
  },
  {
   "cell_type": "code",
   "execution_count": 2,
   "id": "3e6c7c87",
   "metadata": {},
   "outputs": [
    {
     "name": "stdout",
     "output_type": "stream",
     "text": [
      "UAAUCGCGCUAUAUGCGCAUG\n"
     ]
    }
   ],
   "source": [
    "#Bài 5:\n",
    "#cách 1\n",
    "chuoi = \"ATTAGCGCGATATACGCGTAC\"\n",
    "chuoi = chuoi.replace(\"A\", \"U\")\n",
    "chuoi = chuoi.replace(\"T\", \"A\")\n",
    "chuoi = chuoi.replace(\"G\", \"*\")\n",
    "chuoi = chuoi.replace(\"C\", \"G\")\n",
    "chuoi = chuoi.replace(\"*\", \"C\")\n",
    "print(chuoi)"
   ]
  },
  {
   "cell_type": "code",
   "execution_count": 3,
   "id": "04a78e9f",
   "metadata": {},
   "outputs": [
    {
     "name": "stdout",
     "output_type": "stream",
     "text": [
      "UAAUCGCGCUAUAUGCGCAUG\n"
     ]
    }
   ],
   "source": [
    "#cách 2\n",
    "chuoi = \"ATTAGCGCGATATACGCGTAC\"\n",
    "mappingTable = chuoi.maketrans(\"ATGC\", \"UACG\")\n",
    "print(chuoi.translate(mappingTable))"
   ]
  },
  {
   "cell_type": "code",
   "execution_count": 4,
   "id": "7e7a3ea9",
   "metadata": {},
   "outputs": [
    {
     "name": "stdout",
     "output_type": "stream",
     "text": [
      "Nhập số phút mà bạn dùng: 100000\n",
      "N/A\n"
     ]
    }
   ],
   "source": [
    "#Bài 6\n",
    "time = float(input(\"Nhập số phút mà bạn dùng: \")) \n",
    "hours = time//60 \n",
    "minutes = time%60\n",
    "\n",
    "if hours > 100:\n",
    "    print(\"N/A\")\n",
    "else:\n",
    "    print(\"%02d:%02d\" % (hours, minutes))      "
   ]
  },
  {
   "cell_type": "code",
   "execution_count": null,
   "id": "bee854d8",
   "metadata": {},
   "outputs": [],
   "source": [
    "#Bài 7: \n"
   ]
  },
  {
   "cell_type": "code",
   "execution_count": null,
   "id": "a81d3b21",
   "metadata": {},
   "outputs": [],
   "source": []
  }
 ],
 "metadata": {
  "kernelspec": {
   "display_name": "Python 3 (ipykernel)",
   "language": "python",
   "name": "python3"
  },
  "language_info": {
   "codemirror_mode": {
    "name": "ipython",
    "version": 3
   },
   "file_extension": ".py",
   "mimetype": "text/x-python",
   "name": "python",
   "nbconvert_exporter": "python",
   "pygments_lexer": "ipython3",
   "version": "3.9.12"
  }
 },
 "nbformat": 4,
 "nbformat_minor": 5
}
