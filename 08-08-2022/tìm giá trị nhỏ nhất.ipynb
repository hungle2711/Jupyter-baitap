{
 "cells": [
  {
   "cell_type": "code",
   "execution_count": 3,
   "id": "3aa6abe0",
   "metadata": {},
   "outputs": [
    {
     "name": "stdout",
     "output_type": "stream",
     "text": [
      "Min number:  3\n"
     ]
    }
   ],
   "source": [
    "import array as arr\n",
    "def  get_min_numbers(numbers):\n",
    "    result = numbers[0]\n",
    "    for num in numbers:\n",
    "        if result > num:\n",
    "            result = num\n",
    "    return result\n",
    "\n",
    "numbers = [3, 5, 9, 8, 46]\n",
    "min_number = get_min_numbers(numbers)   \n",
    "print(\"Min number: \", min_number)"
   ]
  },
  {
   "cell_type": "code",
   "execution_count": null,
   "id": "316da7fc",
   "metadata": {},
   "outputs": [],
   "source": []
  }
 ],
 "metadata": {
  "kernelspec": {
   "display_name": "Python 3 (ipykernel)",
   "language": "python",
   "name": "python3"
  },
  "language_info": {
   "codemirror_mode": {
    "name": "ipython",
    "version": 3
   },
   "file_extension": ".py",
   "mimetype": "text/x-python",
   "name": "python",
   "nbconvert_exporter": "python",
   "pygments_lexer": "ipython3",
   "version": "3.9.12"
  }
 },
 "nbformat": 4,
 "nbformat_minor": 5
}
