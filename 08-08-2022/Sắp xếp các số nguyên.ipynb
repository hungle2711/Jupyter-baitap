{
 "cells": [
  {
   "cell_type": "code",
   "execution_count": 14,
   "id": "a707c913",
   "metadata": {},
   "outputs": [
    {
     "name": "stdout",
     "output_type": "stream",
     "text": [
      "Enter first number: 3\n",
      "Enter second number: 5\n",
      "Enter third number: 2\n",
      "Original numbers:  3 5 2\n",
      "Sorted numbers:  2 3 5\n"
     ]
    }
   ],
   "source": [
    "def so_sanh(num1, num2, num3):\n",
    "    \n",
    "    temp = 0\n",
    "    if num2 < num1 and num2 < num3:\n",
    "            temp = num1\n",
    "            num1 = num2\n",
    "            num2 = temp\n",
    "    elif num3 < num1 and num3 < num2:\n",
    "        temp = num1\n",
    "        num1 = num3\n",
    "        num3 = temp\n",
    "    if num3 < num2:\n",
    "            temp = num2\n",
    "            num2 = num3\n",
    "            num3 = temp\n",
    "    return (num1, num2, num3)\n",
    "    \n",
    "x = int(input(\"Enter first number: \"))\n",
    "y = int(input(\"Enter second number: \"))\n",
    "z = int(input(\"Enter third number: \"))\n",
    "\n",
    "a, b, c = so_sanh(x, y, z)\n",
    "print(\"Original numbers: \", x, y, z)\n",
    "print(\"Sorted numbers: \", a, b, c)"
   ]
  },
  {
   "cell_type": "code",
   "execution_count": null,
   "id": "4cd08442",
   "metadata": {},
   "outputs": [],
   "source": []
  }
 ],
 "metadata": {
  "kernelspec": {
   "display_name": "Python 3 (ipykernel)",
   "language": "python",
   "name": "python3"
  },
  "language_info": {
   "codemirror_mode": {
    "name": "ipython",
    "version": 3
   },
   "file_extension": ".py",
   "mimetype": "text/x-python",
   "name": "python",
   "nbconvert_exporter": "python",
   "pygments_lexer": "ipython3",
   "version": "3.9.12"
  }
 },
 "nbformat": 4,
 "nbformat_minor": 5
}
