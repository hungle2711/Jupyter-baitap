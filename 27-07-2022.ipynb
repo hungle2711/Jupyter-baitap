{
 "cells": [
  {
   "cell_type": "code",
   "execution_count": null,
   "id": "779067a8",
   "metadata": {},
   "outputs": [],
   "source": [
    "import turtle\n",
    "\n",
    "rad = input('Nhập bán kính lớn nhất của hình xoắn: ')\n",
    "t = turtle.Turtle()\n",
    "d = 0.1\n",
    "\n",
    "while True:\n",
    "    t.fd(d)\n",
    "    t.left(10)\n",
    "    d += 0.1\n",
    "    if t.distance(0, 0) >= int(rad):\n",
    "        break\n",
    "t.hideturtle()    \n",
    "turtle.done()    "
   ]
  },
  {
   "cell_type": "code",
   "execution_count": null,
   "id": "60eb21ff",
   "metadata": {},
   "outputs": [],
   "source": [
    "import turtle \n",
    "\n",
    "t = turtle.Turtle()\n",
    "rad = int(input('Nhập bán kính sẽ dùng: '))\n",
    "vong = 0\n",
    "\n",
    "while vong < 2:\n",
    "    t.circle(rad,90)\n",
    "    t.circle(rad//2,90)\n",
    "    vong +=1"
   ]
  },
  {
   "cell_type": "code",
   "execution_count": 2,
   "id": "c3a2c42f",
   "metadata": {},
   "outputs": [
    {
     "name": "stdout",
     "output_type": "stream",
     "text": [
      "Nhập bán kính sẽ dùng: 100\n"
     ]
    }
   ],
   "source": [
    "import turtle \n",
    "import random\n",
    "\n",
    "\n",
    "screen = turtle.Screen()\n",
    "screen.bgcolor('black')\n",
    "\n",
    "t = turtle.Turtle()\n",
    "rad = int(input('Nhập bán kính sẽ dùng: '))\n",
    "i = 0\n",
    "g = -10\n",
    "t.speed(0)\n",
    "\n",
    "while i < 36:\n",
    "    t.setheading(g)  #hàm rẽ góc\n",
    "    t.pencolor(f'#{random.randint(0,255):02X}{random.randint(0,255):02X}{random.randint(0,255):02X}'\n",
    ") #Tạo màu random\n",
    "    t.circle(rad,90)\n",
    "    t.circle(rad//2,90)\n",
    "    t.circle(rad,90)\n",
    "    t.circle(rad//2,90)\n",
    "    g -=10\n",
    "    i +=1\n",
    "turtle.done()    "
   ]
  },
  {
   "cell_type": "code",
   "execution_count": null,
   "id": "d07827f9",
   "metadata": {},
   "outputs": [],
   "source": []
  }
 ],
 "metadata": {
  "kernelspec": {
   "display_name": "Python 3 (ipykernel)",
   "language": "python",
   "name": "python3"
  },
  "language_info": {
   "codemirror_mode": {
    "name": "ipython",
    "version": 3
   },
   "file_extension": ".py",
   "mimetype": "text/x-python",
   "name": "python",
   "nbconvert_exporter": "python",
   "pygments_lexer": "ipython3",
   "version": "3.9.12"
  }
 },
 "nbformat": 4,
 "nbformat_minor": 5
}
