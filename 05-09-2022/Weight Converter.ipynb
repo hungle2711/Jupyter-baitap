{
 "cells": [
  {
   "cell_type": "code",
   "execution_count": 1,
   "id": "3262006e",
   "metadata": {},
   "outputs": [],
   "source": [
    "import tkinter as tk\n",
    "from tkinter import ttk\n",
    "\n",
    "\n",
    "\n",
    "main = tk.Tk()\n",
    "main.title(\"Weight Converter\")\n",
    "\n",
    "def callback():\n",
    "    kgram = kg_input.get()\n",
    "    \n",
    "#     try:\n",
    "    gram = 1000 * float(kgram)\n",
    "    pound = 2.20462 * float(kgram)\n",
    "    ounce = 35.274 * float(kgram)\n",
    "#     except ValueError:\n",
    "#         main.messagebox.showerror('Error', 'the value is not right type')\n",
    "        \n",
    "#         return\n",
    "    ounce_output.config(text = ounce)\n",
    "    pound_output.config(text = pound)\n",
    "    g_output.config(text = gram)\n",
    "\n",
    "# Row 1\n",
    "kg_input_label = ttk.Label(main, text='Enter the weight in Kg')\n",
    "kg_input = ttk.Entry(main)\n",
    "convert_btn = ttk.Button(main, text='Convert', command = callback)\n",
    "\n",
    "kg_input_label.grid(row=0, column=0)\n",
    "kg_input.grid(row=0, column = 1)\n",
    "convert_btn.grid(row=0, column=2)\n",
    "\n",
    "\n",
    "# Row 2\n",
    "g_output_label = ttk.Label(main, text='Gram')\n",
    "pound_output_label = ttk.Label(main, text='Pound')\n",
    "ounce_output_label = ttk.Label(main, text='Ounce')\n",
    "\n",
    "\n",
    "g_output_label.grid(row = 1, column=0)\n",
    "pound_output_label.grid(row = 1, column=1)\n",
    "ounce_output_label.grid(row = 1, column=2)\n",
    "\n",
    "# Row 3\n",
    "\n",
    "g_output = ttk.Label(main, text='0')\n",
    "pound_output = ttk.Label(main, text='0')\n",
    "ounce_output = ttk.Label(main, text='0')\n",
    "\n",
    "\n",
    "g_output.grid(row = 2, column=0)\n",
    "pound_output.grid(row = 2, column=1)\n",
    "ounce_output.grid(row = 2, column=2)\n",
    "\n",
    "    \n",
    "    \n",
    "main.mainloop()"
   ]
  },
  {
   "cell_type": "code",
   "execution_count": null,
   "id": "305199d9",
   "metadata": {},
   "outputs": [],
   "source": []
  }
 ],
 "metadata": {
  "kernelspec": {
   "display_name": "Python 3 (ipykernel)",
   "language": "python",
   "name": "python3"
  },
  "language_info": {
   "codemirror_mode": {
    "name": "ipython",
    "version": 3
   },
   "file_extension": ".py",
   "mimetype": "text/x-python",
   "name": "python",
   "nbconvert_exporter": "python",
   "pygments_lexer": "ipython3",
   "version": "3.9.12"
  }
 },
 "nbformat": 4,
 "nbformat_minor": 5
}
