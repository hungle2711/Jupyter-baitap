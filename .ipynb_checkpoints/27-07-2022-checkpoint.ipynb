{
 "cells": [
  {
   "cell_type": "code",
   "execution_count": null,
   "id": "3629da62",
   "metadata": {},
   "outputs": [],
   "source": [
    "import turtle\n",
    "\n",
    "rad = input('Nhập bán kính lớn nhất của hình xoắn: ')\n",
    "t = turtle.Turtle()\n",
    "d = 0.1\n",
    "\n",
    "while True:\n",
    "    t.fd(d)\n",
    "    t.left(10)\n",
    "    d += 0.1\n",
    "    if t.distance(0, 0) >= int(rad):\n",
    "        break\n",
    "t.hideturtle()    \n",
    "turtle.done()    "
   ]
  },
  {
   "cell_type": "code",
   "execution_count": null,
   "id": "59426986",
   "metadata": {},
   "outputs": [],
   "source": [
    "import turtle \n",
    "\n",
    "t = turtle.Turtle()\n",
    "rad = int(input('Nhập bán kính sẽ dùng: '))\n",
    "vong = 0\n",
    "\n",
    "while vong < 2:\n",
    "    t.circle(rad,90)\n",
    "    t.circle(rad//2,90)\n",
    "    vong +=1"
   ]
  },
  {
   "cell_type": "code",
   "execution_count": 1,
   "id": "4f4d80cb",
   "metadata": {},
   "outputs": [
    {
     "ename": "NameError",
     "evalue": "name 'speed' is not defined",
     "output_type": "error",
     "traceback": [
      "\u001b[1;31m---------------------------------------------------------------------------\u001b[0m",
      "\u001b[1;31mNameError\u001b[0m                                 Traceback (most recent call last)",
      "Input \u001b[1;32mIn [1]\u001b[0m, in \u001b[0;36m<cell line: 4>\u001b[1;34m()\u001b[0m\n\u001b[0;32m      1\u001b[0m \u001b[38;5;28;01mimport\u001b[39;00m \u001b[38;5;21;01mturtle\u001b[39;00m \n\u001b[0;32m      2\u001b[0m \u001b[38;5;28;01mimport\u001b[39;00m \u001b[38;5;21;01mrandom\u001b[39;00m\n\u001b[1;32m----> 4\u001b[0m \u001b[43mspeed\u001b[49m(\u001b[38;5;241m0\u001b[39m)\n\u001b[0;32m      5\u001b[0m screen \u001b[38;5;241m=\u001b[39m turtle\u001b[38;5;241m.\u001b[39mScreen()\n\u001b[0;32m      6\u001b[0m screen\u001b[38;5;241m.\u001b[39mbgcolor(\u001b[38;5;124m'\u001b[39m\u001b[38;5;124mblack\u001b[39m\u001b[38;5;124m'\u001b[39m)\n",
      "\u001b[1;31mNameError\u001b[0m: name 'speed' is not defined"
     ]
    }
   ],
   "source": [
    "import turtle \n",
    "import random\n",
    "\n",
    "\n",
    "screen = turtle.Screen()\n",
    "screen.bgcolor('black')\n",
    "\n",
    "t = turtle.Turtle()\n",
    "rad = int(input('Nhập bán kính sẽ dùng: '))\n",
    "i = 0\n",
    "g = -10\n",
    "t.speed(0)\n",
    "\n",
    "while i < 36:\n",
    "    t.setheading(g)  #hàm rẽ góc\n",
    "    t.pencolor(f'#{random.randint(0,255):02X}{random.randint(0,255):02X}{random.randint(0,255):02X}'\n",
    ") #Tạo màu random\n",
    "    t.circle(rad,90)\n",
    "    t.circle(rad//2,90)\n",
    "    t.circle(rad,90)\n",
    "    t.circle(rad//2,90)\n",
    "    g -=10\n",
    "    i +=1\n",
    "turtle.done()    "
   ]
  },
  {
   "cell_type": "code",
   "execution_count": null,
   "id": "89305c89",
   "metadata": {},
   "outputs": [],
   "source": []
  }
 ],
 "metadata": {
  "kernelspec": {
   "display_name": "Python 3 (ipykernel)",
   "language": "python",
   "name": "python3"
  },
  "language_info": {
   "codemirror_mode": {
    "name": "ipython",
    "version": 3
   },
   "file_extension": ".py",
   "mimetype": "text/x-python",
   "name": "python",
   "nbconvert_exporter": "python",
   "pygments_lexer": "ipython3",
   "version": "3.9.12"
  }
 },
 "nbformat": 4,
 "nbformat_minor": 5
}
