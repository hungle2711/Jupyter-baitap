{
 "cells": [
  {
   "cell_type": "code",
   "execution_count": 1,
   "id": "4bc0266e",
   "metadata": {},
   "outputs": [
    {
     "ename": "ModuleNotFoundError",
     "evalue": "No module named 'shapes'",
     "output_type": "error",
     "traceback": [
      "\u001b[1;31m---------------------------------------------------------------------------\u001b[0m",
      "\u001b[1;31mModuleNotFoundError\u001b[0m                       Traceback (most recent call last)",
      "Input \u001b[1;32mIn [1]\u001b[0m, in \u001b[0;36m<cell line: 2>\u001b[1;34m()\u001b[0m\n\u001b[0;32m      1\u001b[0m \u001b[38;5;28;01mimport\u001b[39;00m \u001b[38;5;21;01mturtle\u001b[39;00m\n\u001b[1;32m----> 2\u001b[0m \u001b[38;5;28;01mfrom\u001b[39;00m \u001b[38;5;21;01mshapes\u001b[39;00m \u001b[38;5;28;01mimport\u001b[39;00m \u001b[38;5;241m*\u001b[39m\n\u001b[0;32m      4\u001b[0m \u001b[38;5;66;03m# 2. name your turtle\u001b[39;00m\n\u001b[0;32m      5\u001b[0m pen \u001b[38;5;241m=\u001b[39m turtle\u001b[38;5;241m.\u001b[39mTurtle()\n",
      "\u001b[1;31mModuleNotFoundError\u001b[0m: No module named 'shapes'"
     ]
    }
   ],
   "source": [
    "import turtle\n",
    "from shapes import *\n",
    "\n",
    "# 2. name your turtle\n",
    "pen = turtle.Turtle()\n",
    "# 3. Set up your turtle\n",
    "pen.speed(100)\n",
    "pen.color(0,0,0)\n",
    "wn = turtle.Screen()\n",
    "wn.bgcolor(66,202,244)\n",
    "\n",
    "#4. start drawing\n",
    "\n",
    "drawWindow(pen,-95,15,\"square\")\n",
    "drawHouse(pen)\n",
    "drawDoor(pen,-25,-20)\n",
    "drawBush(pen,120,35)\n",
    "drawWindow(pen,-10,100,\"circle\")\n",
    "drawFence(pen)\n",
    "drawPath(pen)\n",
    "drawWindow(pen,-95,100,\"square\")\n",
    "drawGrass(pen)\n",
    "drawCloud(pen,75,160)\n",
    "drawWindow(pen,75,15,\"square\")\n",
    "drawSun(pen,-200,160,70)\n",
    "drawWindow(pen,180,150,\"square\")"
   ]
  },
  {
   "cell_type": "code",
   "execution_count": null,
   "id": "1783e32c",
   "metadata": {},
   "outputs": [],
   "source": []
  }
 ],
 "metadata": {
  "kernelspec": {
   "display_name": "Python 3 (ipykernel)",
   "language": "python",
   "name": "python3"
  },
  "language_info": {
   "codemirror_mode": {
    "name": "ipython",
    "version": 3
   },
   "file_extension": ".py",
   "mimetype": "text/x-python",
   "name": "python",
   "nbconvert_exporter": "python",
   "pygments_lexer": "ipython3",
   "version": "3.9.12"
  }
 },
 "nbformat": 4,
 "nbformat_minor": 5
}
