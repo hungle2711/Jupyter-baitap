{
 "cells": [
  {
   "cell_type": "code",
   "execution_count": 1,
   "id": "738104ca",
   "metadata": {},
   "outputs": [
    {
     "name": "stdout",
     "output_type": "stream",
     "text": [
      "Lê Mạnh Hùng\n",
      "Sinh ngày: 27/11/1999\n",
      "Địa chỉ: Tổ 5, khu 6, Thanh Sơn, Uông Bí, Quảng Ninh\n",
      "Lí do đến với khóa học nhằm tiếp nhận thêm kiến thức mới và tăng hiểu biết hơn về ngôn ngữ. Bên cạnh đó phát triển để có thể đi chuyên sâu hơn.\n"
     ]
    }
   ],
   "source": [
    "print(\"Lê Mạnh Hùng\")\n",
    "print(\"Sinh ngày: 27/11/1999\")\n",
    "print(\"Địa chỉ: Tổ 5, khu 6, Thanh Sơn, Uông Bí, Quảng Ninh\")\n",
    "print(\"Lí do đến với khóa học nhằm tiếp nhận thêm kiến thức mới và tăng hiểu biết hơn về ngôn ngữ. Bên cạnh đó phát triển để có thể đi chuyên sâu hơn.\")"
   ]
  },
  {
   "cell_type": "code",
   "execution_count": null,
   "id": "e70656b9",
   "metadata": {},
   "outputs": [],
   "source": []
  }
 ],
 "metadata": {
  "kernelspec": {
   "display_name": "Python 3 (ipykernel)",
   "language": "python",
   "name": "python3"
  },
  "language_info": {
   "codemirror_mode": {
    "name": "ipython",
    "version": 3
   },
   "file_extension": ".py",
   "mimetype": "text/x-python",
   "name": "python",
   "nbconvert_exporter": "python",
   "pygments_lexer": "ipython3",
   "version": "3.9.12"
  }
 },
 "nbformat": 4,
 "nbformat_minor": 5
}
