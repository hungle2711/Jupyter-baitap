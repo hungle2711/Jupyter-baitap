{
 "cells": [
  {
   "cell_type": "code",
   "execution_count": null,
   "id": "98763414",
   "metadata": {},
   "outputs": [],
   "source": [
    "import tkinter as tk\n",
    "from tkinter import ttk\n",
    "\n",
    "man_hinh_chinh = tk.Tk()\n",
    "man_hinh_chinh.title('Demo')\n",
    "man_hinh_chinh.geometry('500x500')\n",
    "\n",
    "username = ttk.Label(man_hinh_chinh, text = 'Username:')\n",
    "username.grid(row = 0, column = 0, pady=10, sticky='W')\n",
    "\n",
    "email = ttk.Label(man_hinh_chinh, text = 'Email:')\n",
    "email.grid(row = 1, column = 0, pady =10, sticky='W')\n",
    "\n",
    "password = ttk.Label(man_hinh_chinh, text = 'Password:')\n",
    "password.grid(row = 2, column = 0, pady=10, sticky='W')\n",
    "\n",
    "entry1 = ttk.Entry(man_hinh_chinh)\n",
    "entry1.grid(row=0, column=1)\n",
    "entry2 = ttk.Entry(man_hinh_chinh)\n",
    "entry2.grid(row=1, column=1)\n",
    "entry3 = ttk.Entry(man_hinh_chinh)\n",
    "entry3.grid(row=2, column=1)\n",
    "\n",
    "\n",
    "\n",
    "\n",
    "man_hinh_chinh.mainloop()"
   ]
  },
  {
   "cell_type": "code",
   "execution_count": null,
   "id": "1b999b5d",
   "metadata": {},
   "outputs": [],
   "source": [
    "import tkinter as tk\n",
    "from tkinter import ttk\n",
    "\n",
    "\n",
    "root = tk.Tk()\n",
    "root.title('Demo')\n",
    "root.geometry('300x300')\n",
    "\n",
    "style = ttk.Style(root)\n",
    "print(style.theme_names())\n",
    "print(style.theme_use())\n",
    "style.theme_use('default')\n",
    "\n",
    "#row 1\n",
    "frame1 = ttk.Frame(root)\n",
    "frame1.pack(side='top', fill='x')\n",
    "\n",
    "label1 = ttk.Label(\n",
    "    frame1,\n",
    "    text = 'Username',\n",
    "    anchor = tk.CENTER\n",
    ")\n",
    "label1.pack(side='left')\n",
    "entry1 = ttk.Entry(frame1)\n",
    "entry1.pack(side='left')\n",
    "\n",
    "\n",
    "#row2\n",
    "\n",
    "frame2 = ttk.Frame(root)\n",
    "frame2.pack(side='top', fill='x')\n",
    "\n",
    "label2 = ttk.Label(\n",
    "    frame2,\n",
    "    text = 'Password',\n",
    "    anchor = tk.CENTER\n",
    ")\n",
    "label2.pack(side='left')\n",
    "entry2 = ttk.Entry(frame2)\n",
    "entry2.pack(side='left')\n",
    "\n",
    "\n",
    "\n",
    "\n",
    "tk.mainloop()"
   ]
  },
  {
   "cell_type": "code",
   "execution_count": 2,
   "id": "e1de4563",
   "metadata": {},
   "outputs": [
    {
     "ename": "NameError",
     "evalue": "name 'Text' is not defined",
     "output_type": "error",
     "traceback": [
      "\u001b[1;31m---------------------------------------------------------------------------\u001b[0m",
      "\u001b[1;31mNameError\u001b[0m                                 Traceback (most recent call last)",
      "Input \u001b[1;32mIn [2]\u001b[0m, in \u001b[0;36m<cell line: 15>\u001b[1;34m()\u001b[0m\n\u001b[0;32m     12\u001b[0m button1 \u001b[38;5;241m=\u001b[39m ttk\u001b[38;5;241m.\u001b[39mButton(root, text\u001b[38;5;241m=\u001b[39m\u001b[38;5;124m'\u001b[39m\u001b[38;5;124mSubmit\u001b[39m\u001b[38;5;124m'\u001b[39m, command\u001b[38;5;241m=\u001b[39mhandle_submit)\n\u001b[0;32m     13\u001b[0m button1\u001b[38;5;241m.\u001b[39mpack()\n\u001b[1;32m---> 15\u001b[0m text1 \u001b[38;5;241m=\u001b[39m \u001b[43mText\u001b[49m(root)\n\u001b[0;32m     16\u001b[0m text1\u001b[38;5;241m.\u001b[39mpack()\n\u001b[0;32m     18\u001b[0m tk\u001b[38;5;241m.\u001b[39mmainloop()\n",
      "\u001b[1;31mNameError\u001b[0m: name 'Text' is not defined"
     ]
    }
   ],
   "source": [
    "import tkinter as tk\n",
    "from tkinter import ttk\n",
    "\n",
    "\n",
    "root = tk.Tk()\n",
    "root.title('Demo')\n",
    "root.geometry('300x300')\n",
    "\n",
    "def handle_submit():\n",
    "    print('Clicked')\n",
    "    \n",
    "button1 = ttk.Button(root, text='Submit', command=handle_submit)\n",
    "button1.pack()\n",
    "\n",
    "text1 = tk.Text(root)\n",
    "text1.pack()\n",
    "\n",
    "tk.mainloop()"
   ]
  },
  {
   "cell_type": "code",
   "execution_count": null,
   "id": "8bfce19d",
   "metadata": {},
   "outputs": [],
   "source": []
  }
 ],
 "metadata": {
  "kernelspec": {
   "display_name": "Python 3 (ipykernel)",
   "language": "python",
   "name": "python3"
  },
  "language_info": {
   "codemirror_mode": {
    "name": "ipython",
    "version": 3
   },
   "file_extension": ".py",
   "mimetype": "text/x-python",
   "name": "python",
   "nbconvert_exporter": "python",
   "pygments_lexer": "ipython3",
   "version": "3.9.12"
  }
 },
 "nbformat": 4,
 "nbformat_minor": 5
}
