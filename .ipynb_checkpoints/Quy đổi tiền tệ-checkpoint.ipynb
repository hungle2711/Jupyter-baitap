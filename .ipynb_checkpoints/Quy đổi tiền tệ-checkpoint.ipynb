{
 "cells": [
  {
   "cell_type": "code",
   "execution_count": 3,
   "id": "755f5ce5",
   "metadata": {},
   "outputs": [
    {
     "name": "stdout",
     "output_type": "stream",
     "text": [
      "Pham mem chuyen doi tien te USD sang VND\n",
      "Nhap so tien theo USD: 10\n",
      "Gia tri theo tien Viet Nam: 235000 vnd\n"
     ]
    }
   ],
   "source": [
    "USD = input('Nhap so tien theo USD: ')\n",
    "\n",
    "VND = int(USD)*23500\n",
    "print('Gia tri theo tien Viet Nam:', VND, 'vnd')"
   ]
  },
  {
   "cell_type": "code",
   "execution_count": null,
   "id": "f075c377",
   "metadata": {},
   "outputs": [],
   "source": []
  }
 ],
 "metadata": {
  "kernelspec": {
   "display_name": "Python 3 (ipykernel)",
   "language": "python",
   "name": "python3"
  },
  "language_info": {
   "codemirror_mode": {
    "name": "ipython",
    "version": 3
   },
   "file_extension": ".py",
   "mimetype": "text/x-python",
   "name": "python",
   "nbconvert_exporter": "python",
   "pygments_lexer": "ipython3",
   "version": "3.9.12"
  }
 },
 "nbformat": 4,
 "nbformat_minor": 5
}
