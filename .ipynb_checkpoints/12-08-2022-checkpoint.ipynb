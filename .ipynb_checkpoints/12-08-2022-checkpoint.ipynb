{
 "cells": [
  {
   "cell_type": "code",
   "execution_count": 10,
   "id": "e0b19b25",
   "metadata": {},
   "outputs": [
    {
     "name": "stdout",
     "output_type": "stream",
     "text": [
      "[1, 5, 6, 9, 12, 12, 65, 95]\n",
      "[95, 65, 12, 12, 9, 6, 5, 1]\n",
      "[95, 65, 12, 12, 9]\n"
     ]
    },
    {
     "data": {
      "text/plain": [
       "2"
      ]
     },
     "execution_count": 10,
     "metadata": {},
     "output_type": "execute_result"
    }
   ],
   "source": [
    "danhsach = [1, 65, 95, 12, 5, 6, 9, 12]\n",
    "danhsach.sort()\n",
    "print(danhsach)\n",
    "danhsach.reverse()\n",
    "print(danhsach)\n",
    "print(danhsach[0:5])\n",
    "danhsach.index(12)"
   ]
  },
  {
   "cell_type": "code",
   "execution_count": 2,
   "id": "3b089d42",
   "metadata": {},
   "outputs": [
    {
     "name": "stdout",
     "output_type": "stream",
     "text": [
      "Nhập các số trong danh sách: 1, 3, 6, 9, 11, 34, 12, 15\n",
      "Vui long nhap cac phan tu la so thuc!\n"
     ]
    }
   ],
   "source": [
    "danhsach = []\n",
    "while True:\n",
    "    so = input('Nhập một số bất kỳ. Nếu muốn phát bấm \"q\": ')\n",
    "    if so == \"q\":\n",
    "        break\n",
    "    danhsach.append(int(so))\n",
    "print(danhsach)\n",
    "tong = 0\n",
    "for so in danhsach:\n",
    "    if so % 2 != 0:\n",
    "        tong += so\n",
    "print(tong)"
   ]
  },
  {
   "cell_type": "code",
   "execution_count": null,
   "id": "150b8ae6",
   "metadata": {},
   "outputs": [],
   "source": []
  }
 ],
 "metadata": {
  "kernelspec": {
   "display_name": "Python 3 (ipykernel)",
   "language": "python",
   "name": "python3"
  },
  "language_info": {
   "codemirror_mode": {
    "name": "ipython",
    "version": 3
   },
   "file_extension": ".py",
   "mimetype": "text/x-python",
   "name": "python",
   "nbconvert_exporter": "python",
   "pygments_lexer": "ipython3",
   "version": "3.9.12"
  }
 },
 "nbformat": 4,
 "nbformat_minor": 5
}
