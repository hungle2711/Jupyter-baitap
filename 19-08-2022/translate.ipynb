{
 "cells": [
  {
   "cell_type": "code",
   "execution_count": 7,
   "id": "ffb8e8df",
   "metadata": {},
   "outputs": [
    {
     "name": "stdout",
     "output_type": "stream",
     "text": [
      "Nhập từ mà bạn muốn dịch: hello\n",
      "xin chào\n"
     ]
    }
   ],
   "source": [
    "def translate(tu_dien, input_word):\n",
    "    return tu_dien.get(input_word)\n",
    "\n",
    "input_word = input('Nhập từ mà bạn muốn dịch: ')\n",
    "\n",
    "translated_word = translate({'hello':'xin chào', 'run':'chạy','car':'ô tô'},input_word)\n",
    "\n",
    "if not translated_word:\n",
    "    print('không có từ này trong từ điển')\n",
    "else:\n",
    "    print(translated_word)"
   ]
  },
  {
   "cell_type": "code",
   "execution_count": null,
   "id": "61aa06e6",
   "metadata": {},
   "outputs": [],
   "source": []
  }
 ],
 "metadata": {
  "kernelspec": {
   "display_name": "Python 3 (ipykernel)",
   "language": "python",
   "name": "python3"
  },
  "language_info": {
   "codemirror_mode": {
    "name": "ipython",
    "version": 3
   },
   "file_extension": ".py",
   "mimetype": "text/x-python",
   "name": "python",
   "nbconvert_exporter": "python",
   "pygments_lexer": "ipython3",
   "version": "3.9.12"
  }
 },
 "nbformat": 4,
 "nbformat_minor": 5
}
