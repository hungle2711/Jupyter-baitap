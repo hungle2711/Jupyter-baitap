{
 "cells": [
  {
   "cell_type": "code",
   "execution_count": 9,
   "id": "92bf6069",
   "metadata": {},
   "outputs": [
    {
     "name": "stdout",
     "output_type": "stream",
     "text": [
      "Nhập văn bản mà bạn cần đếm:  Xin chào xin Chào\n",
      "Từ \"xin\" có số lương là 2 từ trong chuỗi.\n",
      "Từ \"chào\" có số lương là 2 từ trong chuỗi.\n"
     ]
    }
   ],
   "source": [
    "# def count(chuoi)\n",
    "chuoi = input('Nhập văn bản mà bạn cần đếm:  ')\n",
    "tach_chuoi = chuoi.split()\n",
    "chuoi_list = {}\n",
    "for word in tach_chuoi:\n",
    "    word_thuong = word.lower()\n",
    "    if word1 not in chuoi_list:\n",
    "        chuoi_list[word_thuong] = 1\n",
    "    else:\n",
    "        chuoi_list[word_thuong] += 1\n",
    "for key, value in chuoi_list.items():\n",
    "    print(f'Từ \"{key}\" có số lương là {value} từ trong chuỗi.')\n",
    "# print(word, chuoi_list[word])\n"
   ]
  },
  {
   "cell_type": "code",
   "execution_count": null,
   "id": "ef97ad8b",
   "metadata": {},
   "outputs": [],
   "source": []
  }
 ],
 "metadata": {
  "kernelspec": {
   "display_name": "Python 3 (ipykernel)",
   "language": "python",
   "name": "python3"
  },
  "language_info": {
   "codemirror_mode": {
    "name": "ipython",
    "version": 3
   },
   "file_extension": ".py",
   "mimetype": "text/x-python",
   "name": "python",
   "nbconvert_exporter": "python",
   "pygments_lexer": "ipython3",
   "version": "3.9.12"
  }
 },
 "nbformat": 4,
 "nbformat_minor": 5
}
