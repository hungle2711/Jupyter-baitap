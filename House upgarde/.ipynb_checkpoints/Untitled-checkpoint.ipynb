{
 "cells": [
  {
   "cell_type": "code",
   "execution_count": null,
   "id": "995c023d",
   "metadata": {},
   "outputs": [],
   "source": [
    "import turtle\n",
    "t = turtle.Turtle()\n",
    "\n",
    "def ve_hcn(t, width, height, color):\n",
    "    t.fillcolor(color)\n",
    "    t.begin_fill()\n",
    "    t.forward(width)\n",
    "    t.left(90)\n",
    "    t.forward(height)\n",
    "    t.left(90)\n",
    "    t.forward(width)\n",
    "    t.left(90)\n",
    "    t.forward(height)\n",
    "    t.left(90)\n",
    "    t.end_fill()\n",
    "\n",
    "    \n",
    " \n",
    "ve_hcn(t, 100, 250, 'red')\n",
    "    \n",
    "\n",
    "\n",
    "\n",
    "\n",
    "\n",
    "\n",
    "turtle.done()"
   ]
  },
  {
   "cell_type": "code",
   "execution_count": null,
   "id": "428346d1",
   "metadata": {},
   "outputs": [],
   "source": []
  }
 ],
 "metadata": {
  "kernelspec": {
   "display_name": "Python 3 (ipykernel)",
   "language": "python",
   "name": "python3"
  },
  "language_info": {
   "codemirror_mode": {
    "name": "ipython",
    "version": 3
   },
   "file_extension": ".py",
   "mimetype": "text/x-python",
   "name": "python",
   "nbconvert_exporter": "python",
   "pygments_lexer": "ipython3",
   "version": "3.9.12"
  }
 },
 "nbformat": 4,
 "nbformat_minor": 5
}
