{
 "cells": [
  {
   "cell_type": "code",
   "execution_count": 2,
   "id": "5050d516",
   "metadata": {},
   "outputs": [
    {
     "name": "stdout",
     "output_type": "stream",
     "text": [
      "Nhập một số: 15\n",
      "15 Là số lẻ\n"
     ]
    }
   ],
   "source": [
    "def kiem_tra(n):\n",
    "\n",
    "    flag = 1;\n",
    "    if( n % 2 == 0):\n",
    "        flag= 0;\n",
    "    return flag;  \n",
    "\n",
    "\n",
    "n = int(input(\"Nhập một số: \"))\n",
    "\n",
    "\n",
    "check = kiem_tra(n);\n",
    " \n",
    "if check == 1:\n",
    "    print(n,\"Là số lẻ\")\n",
    "else:\n",
    "    print(n,\"Là sỗ chẵn\")"
   ]
  },
  {
   "cell_type": "code",
   "execution_count": null,
   "id": "97cd73e0",
   "metadata": {},
   "outputs": [],
   "source": []
  }
 ],
 "metadata": {
  "kernelspec": {
   "display_name": "Python 3 (ipykernel)",
   "language": "python",
   "name": "python3"
  },
  "language_info": {
   "codemirror_mode": {
    "name": "ipython",
    "version": 3
   },
   "file_extension": ".py",
   "mimetype": "text/x-python",
   "name": "python",
   "nbconvert_exporter": "python",
   "pygments_lexer": "ipython3",
   "version": "3.9.12"
  }
 },
 "nbformat": 4,
 "nbformat_minor": 5
}
