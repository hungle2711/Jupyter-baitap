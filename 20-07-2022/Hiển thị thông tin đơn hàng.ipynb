{
 "cells": [
  {
   "cell_type": "code",
   "execution_count": 2,
   "id": "0ef9ca81",
   "metadata": {},
   "outputs": [
    {
     "name": "stdout",
     "output_type": "stream",
     "text": [
      "Give me a price: 151\n",
      "Total:  101\n"
     ]
    }
   ],
   "source": [
    "num = int(input(\"Give me a price: \"))\n",
    "if num >= 150:\n",
    "    print(\"Total: \", num - 50)\n",
    "elif num >= 100:\n",
    "    print(\"Total: \", num - 25)\n",
    "elif num >= 75:\n",
    "    print(\"Total: \", num - 15)\n",
    "else:\n",
    "    print(\"Total: \", num)"
   ]
  }
 ],
 "metadata": {
  "kernelspec": {
   "display_name": "Python 3 (ipykernel)",
   "language": "python",
   "name": "python3"
  },
  "language_info": {
   "codemirror_mode": {
    "name": "ipython",
    "version": 3
   },
   "file_extension": ".py",
   "mimetype": "text/x-python",
   "name": "python",
   "nbconvert_exporter": "python",
   "pygments_lexer": "ipython3",
   "version": "3.9.12"
  }
 },
 "nbformat": 4,
 "nbformat_minor": 5
}
