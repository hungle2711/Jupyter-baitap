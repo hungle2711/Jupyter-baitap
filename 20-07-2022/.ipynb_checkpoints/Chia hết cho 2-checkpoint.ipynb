{
 "cells": [
  {
   "cell_type": "code",
   "execution_count": 3,
   "id": "261ee5e6",
   "metadata": {},
   "outputs": [
    {
     "name": "stdout",
     "output_type": "stream",
     "text": [
      "15\n",
      "15 không chia hết cho 2\n"
     ]
    }
   ],
   "source": [
    "n=int(input())\n",
    "\n",
    "if (n%2==0):\n",
    "\n",
    "    print(n,\"chia hết cho 2\")\n",
    "\n",
    "else:\n",
    "\n",
    "    print(n,\"không chia hết cho 2\")"
   ]
  }
 ],
 "metadata": {
  "kernelspec": {
   "display_name": "Python 3 (ipykernel)",
   "language": "python",
   "name": "python3"
  },
  "language_info": {
   "codemirror_mode": {
    "name": "ipython",
    "version": 3
   },
   "file_extension": ".py",
   "mimetype": "text/x-python",
   "name": "python",
   "nbconvert_exporter": "python",
   "pygments_lexer": "ipython3",
   "version": "3.9.12"
  }
 },
 "nbformat": 4,
 "nbformat_minor": 5
}
