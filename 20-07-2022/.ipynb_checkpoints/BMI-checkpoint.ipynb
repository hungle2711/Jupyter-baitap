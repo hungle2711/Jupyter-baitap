{
 "cells": [
  {
   "cell_type": "code",
   "execution_count": null,
   "id": "b364d3eb",
   "metadata": {},
   "outputs": [],
   "source": [
    "def BMI(cannang,chieucao):\n",
    "    return cannang/(chieucao**2)\n",
    "\n",
    "def ChuanDoan(BMI):\n",
    "    if BMI < 16:\n",
    "        return 'Gầy cấp độ III'\n",
    "    elif 16 < BMI < 17:\n",
    "        return  'Gầy cập độ II'\n",
    "    elif 17<= BMI <= 18.5:\n",
    "        return 'Gầy cấp độ I'\n",
    "    elif 18.5 <= BMI < 25:\n",
    "        return 'Bình thường'\n",
    "    elif 25 <= BMI < 30:\n",
    "        return 'Thừa cân'\n",
    "    elif 35 <= BMI < 40:\n",
    "        return 'Béo phì cấp độ II'\n",
    "    else:\n",
    "        return 'Béo phì cấp độ III'\n",
    "\n",
    "x = float(input('Nhập vào cân nặng của bạn : '))\n",
    "y = float(input('Nhập vào chiều cao của bạn : '))\n",
    "bmi = BMI(x, y)\n",
    "print('BMI của bạn = ', bmi)\n",
    "print(ChuanDoan(bmi))"
   ]
  },
  {
   "cell_type": "code",
   "execution_count": null,
   "id": "319906f8",
   "metadata": {},
   "outputs": [],
   "source": []
  }
 ],
 "metadata": {
  "kernelspec": {
   "display_name": "Python 3 (ipykernel)",
   "language": "python",
   "name": "python3"
  },
  "language_info": {
   "codemirror_mode": {
    "name": "ipython",
    "version": 3
   },
   "file_extension": ".py",
   "mimetype": "text/x-python",
   "name": "python",
   "nbconvert_exporter": "python",
   "pygments_lexer": "ipython3",
   "version": "3.9.12"
  }
 },
 "nbformat": 4,
 "nbformat_minor": 5
}
