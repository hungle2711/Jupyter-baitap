{
 "cells": [
  {
   "cell_type": "code",
   "execution_count": null,
   "id": "97a85142",
   "metadata": {},
   "outputs": [],
   "source": [
    "d = {\n",
    "    2: 'xin chao',\n",
    "    3: 2,\n",
    "    True: [1,2,3],\n",
    "    False: True,\n",
    "    'hello': 'tam biet',\n",
    "    'a' : {\n",
    "        'b' : 1,\n",
    "        'c' : [4,5]\n",
    "    }\n",
    "} \n",
    "\n",
    "\n",
    "d[2] = 5\n",
    "d['a']['c'] = 2\n",
    "\n",
    "print(d[2])\n",
    "print(d['a']['c'])\n",
    "\n",
    "t = ('k1', 'k2', 'k3')\n",
    "a = dict.fromkeys(t, 2)\n",
    "print(d.get(2))\n",
    "print(a)"
   ]
  },
  {
   "cell_type": "code",
   "execution_count": null,
   "id": "7a4bc54f",
   "metadata": {},
   "outputs": [],
   "source": [
    "d = {\n",
    "    2: 'xin chao',\n",
    "    3: 2,\n",
    "    True: [1,2,3],\n",
    "    False: True,\n",
    "    'hello': 'tam biet'\n",
    "}\n",
    "d.upgrade():\n",
    "    \n",
    "\n",
    "for item in d.items():\n",
    "    print(item)"
   ]
  },
  {
   "cell_type": "code",
   "execution_count": 2,
   "id": "9a18a7e8",
   "metadata": {},
   "outputs": [
    {
     "name": "stdout",
     "output_type": "stream",
     "text": [
      "{}\n"
     ]
    }
   ],
   "source": [
    "nhan_vien = {\n",
    "    \n",
    "}\n",
    "while True:\n",
    "    thoat = input('Bạn có muốn thoát không? Bấm \"y\" để thoát. Bấm bất kỳ để tiếp tục: ')\n",
    "    if thoat == \"y\":\n",
    "        break\n",
    "    ma = input('Nhập mã nhân viên: ')\n",
    "    tuoi = input('Nhập tuổi nhân viên: ')\n",
    "print(nhan_vien)\n",
    "if not nhan_vien:\n",
    "    print('Không có thông tin nhân viên')\n",
    "else:\n",
    "    tuoi_nho_nhat = None\n",
    "    tuoi_lon_nhat = None\n",
    "    for tuoi in nhan_vien.values():\n",
    "        if not tuoi_nho_nhat or tuoi_lon_nhat > tuoi:\n",
    "            tuoi_nho_nhat = tuoi\n",
    "        if tuoi_nho_nhat or tuoi_lon_nhat < tuoi:\n",
    "            tuoi_lon_nhat = tuoi\n",
    "    print(f'Tuổi nhỏ nhất: {tuoi_nho_nhat} và lớn nhất: {tuoi_lon_nhat}')\n"
   ]
  },
  {
   "cell_type": "code",
   "execution_count": null,
   "id": "33b6563d",
   "metadata": {},
   "outputs": [],
   "source": []
  },
  {
   "cell_type": "code",
   "execution_count": null,
   "id": "afcd98b8",
   "metadata": {},
   "outputs": [],
   "source": []
  }
 ],
 "metadata": {
  "kernelspec": {
   "display_name": "Python 3 (ipykernel)",
   "language": "python",
   "name": "python3"
  },
  "language_info": {
   "codemirror_mode": {
    "name": "ipython",
    "version": 3
   },
   "file_extension": ".py",
   "mimetype": "text/x-python",
   "name": "python",
   "nbconvert_exporter": "python",
   "pygments_lexer": "ipython3",
   "version": "3.9.12"
  }
 },
 "nbformat": 4,
 "nbformat_minor": 5
}
