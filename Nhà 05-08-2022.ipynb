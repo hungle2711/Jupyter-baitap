{
 "cells": [
  {
   "cell_type": "code",
   "execution_count": 1,
   "id": "e5aee975",
   "metadata": {},
   "outputs": [],
   "source": [
    "import turtle\n",
    "\n",
    "\n",
    "def ve_hcn(t, rong, cao, mau):\n",
    "    t.fillcolor(mau)\n",
    "    t.begin_fill()\n",
    "    for i in range(0, 2):\n",
    "        t.fd(rong)\n",
    "        t.left(90)\n",
    "        t.fd(cao)\n",
    "        t.left(90)\n",
    "    t.end_fill()\n",
    "    \n",
    "def ve_nha(t, x, y, rong, cao, mau, mau_cua_so):\n",
    "    t.penup()\n",
    "    t.goto(x,y)\n",
    "    t.pendown()\n",
    "    ve_hcn(t, rong, cao, mau)\n",
    "    t.penup()\n",
    "    t.setheading(90)\n",
    "    t.fd(cao/4)\n",
    "    t.right(90)\n",
    "    t.fd(rong/4)\n",
    "    t.pendown()\n",
    "    ve_hcn(t, rong/2, cao/3, mau_cua_so)\n",
    "    \n",
    "\n",
    "t = turtle.Turtle()\n",
    "t.speed(0)\n",
    "\n",
    "# Nha 1\n",
    "ve_nha(t, -200, -200, 100, 200, 'red','white')\n",
    "# Nha 2\n",
    "ve_nha(t, -100, -200, 100, 200, 'red', 'white')\n",
    "# Nha 3\n",
    "ve_nha(t, -200, -0, 100, 200, 'red', 'white')\n",
    "# Nha 4\n",
    "ve_nha(t, -100, -0, 100, 200, 'red', 'white')\n",
    "# #  Nha 5\n",
    "t.penup()\n",
    "t.goto(0, -200)\n",
    "t.setheading(0)\n",
    "t.pendown()\n",
    "ve_hcn(t, 200, 200, 'yellow')\n",
    "for i in range(0, 2):\n",
    "    t.fd(50)\n",
    "    ve_hcn(t, 50, 100, 'green')\n",
    "\n",
    "\n",
    "turtle.done()"
   ]
  },
  {
   "cell_type": "code",
   "execution_count": null,
   "id": "017af1e9",
   "metadata": {},
   "outputs": [],
   "source": []
  },
  {
   "cell_type": "code",
   "execution_count": null,
   "id": "69bd2272",
   "metadata": {},
   "outputs": [],
   "source": []
  }
 ],
 "metadata": {
  "kernelspec": {
   "display_name": "Python 3 (ipykernel)",
   "language": "python",
   "name": "python3"
  },
  "language_info": {
   "codemirror_mode": {
    "name": "ipython",
    "version": 3
   },
   "file_extension": ".py",
   "mimetype": "text/x-python",
   "name": "python",
   "nbconvert_exporter": "python",
   "pygments_lexer": "ipython3",
   "version": "3.9.12"
  }
 },
 "nbformat": 4,
 "nbformat_minor": 5
}
