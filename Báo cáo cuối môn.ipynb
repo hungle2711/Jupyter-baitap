{
 "cells": [
  {
   "cell_type": "code",
   "execution_count": 1,
   "id": "0d073781",
   "metadata": {},
   "outputs": [],
   "source": [
    "import tkinter as tk\n",
    "from tkinter import ttk\n",
    "\n",
    "main = tk.Tk()\n",
    "main.title(\"Random Password\")\n",
    "main.geometry('350x350')\n",
    "\n",
    "\n",
    "def randompassword():\n",
    "\n",
    "    from random import randint, choice\n",
    "\n",
    "    password = \"\"\n",
    "\n",
    "    char = \"~`!@#$%^&*()_<>?/\"\n",
    "\n",
    "    for i in range(20):\n",
    "        A = [chr(randint(65, 90)), chr(randint(97, 122)), randint(0, 9), choice(char)]\n",
    "        password = password + str(choice(A))\n",
    "\n",
    "    \n",
    "    ps1_label.config(text = password)\n",
    "\n",
    "#giao dien\n",
    "ps_label = ttk.Label(main, text='Mật khẩu ngẫu nhiên của bạn là')\n",
    "ps_label.grid(row=0, column = 0)\n",
    "\n",
    "ps1_label = ttk.Label(main, text='None')\n",
    "ps1_label.grid(row=1)\n",
    "\n",
    "ps_btn = ttk.Button(main, text='Tạo mật khẩu mới', command = randompassword)\n",
    "ps_btn.grid(row=0, column=2)\n",
    "\n",
    "\n",
    "main.mainloop()"
   ]
  },
  {
   "cell_type": "code",
   "execution_count": null,
   "id": "fc7c3005",
   "metadata": {},
   "outputs": [],
   "source": []
  }
 ],
 "metadata": {
  "kernelspec": {
   "display_name": "Python 3 (ipykernel)",
   "language": "python",
   "name": "python3"
  },
  "language_info": {
   "codemirror_mode": {
    "name": "ipython",
    "version": 3
   },
   "file_extension": ".py",
   "mimetype": "text/x-python",
   "name": "python",
   "nbconvert_exporter": "python",
   "pygments_lexer": "ipython3",
   "version": "3.9.12"
  }
 },
 "nbformat": 4,
 "nbformat_minor": 5
}
