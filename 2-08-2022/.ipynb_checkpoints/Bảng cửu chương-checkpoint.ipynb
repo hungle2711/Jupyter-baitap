{
 "cells": [
  {
   "cell_type": "code",
   "execution_count": 1,
   "id": "35c3e531",
   "metadata": {},
   "outputs": [
    {
     "name": "stdout",
     "output_type": "stream",
     "text": [
      " 1x 1= 1  1x 2= 2  1x 3= 3  1x 4= 4  1x 5= 5  1x 6= 6  1x 7= 7  1x 8= 8  1x 9= 9 \n",
      " 2x 1= 2  2x 2= 4  2x 3= 6  2x 4= 8  2x 5=10  2x 6=12  2x 7=14  2x 8=16  2x 9=18 \n",
      " 3x 1= 3  3x 2= 6  3x 3= 9  3x 4=12  3x 5=15  3x 6=18  3x 7=21  3x 8=24  3x 9=27 \n",
      " 4x 1= 4  4x 2= 8  4x 3=12  4x 4=16  4x 5=20  4x 6=24  4x 7=28  4x 8=32  4x 9=36 \n",
      " 5x 1= 5  5x 2=10  5x 3=15  5x 4=20  5x 5=25  5x 6=30  5x 7=35  5x 8=40  5x 9=45 \n",
      " 6x 1= 6  6x 2=12  6x 3=18  6x 4=24  6x 5=30  6x 6=36  6x 7=42  6x 8=48  6x 9=54 \n",
      " 7x 1= 7  7x 2=14  7x 3=21  7x 4=28  7x 5=35  7x 6=42  7x 7=49  7x 8=56  7x 9=63 \n",
      " 8x 1= 8  8x 2=16  8x 3=24  8x 4=32  8x 5=40  8x 6=48  8x 7=56  8x 8=64  8x 9=72 \n",
      " 9x 1= 9  9x 2=18  9x 3=27  9x 4=36  9x 5=45  9x 6=54  9x 7=63  9x 8=72  9x 9=81 \n"
     ]
    }
   ],
   "source": [
    "for i in range(1,10):\n",
    "    for j in range(1,10):\n",
    "        print('{0:2}x{1:2}={2:2}'.format(i,j,i*j),end=' ')\n",
    "    print()"
   ]
  },
  {
   "cell_type": "code",
   "execution_count": null,
   "id": "7db18d59",
   "metadata": {},
   "outputs": [],
   "source": []
  }
 ],
 "metadata": {
  "kernelspec": {
   "display_name": "Python 3 (ipykernel)",
   "language": "python",
   "name": "python3"
  },
  "language_info": {
   "codemirror_mode": {
    "name": "ipython",
    "version": 3
   },
   "file_extension": ".py",
   "mimetype": "text/x-python",
   "name": "python",
   "nbconvert_exporter": "python",
   "pygments_lexer": "ipython3",
   "version": "3.9.12"
  }
 },
 "nbformat": 4,
 "nbformat_minor": 5
}
