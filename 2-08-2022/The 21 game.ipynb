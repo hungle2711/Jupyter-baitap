{
 "cells": [
  {
   "cell_type": "code",
   "execution_count": 1,
   "id": "606957d4",
   "metadata": {},
   "outputs": [
    {
     "name": "stdout",
     "output_type": "stream",
     "text": [
      "Máy tính được chơi trước\n",
      "Máy tính đã nhập số: 1\n",
      "Tổng điểm hiện tại:  1\n",
      "Mời bạn nhập số (1-3): 2\n",
      "Tổng điểm hiện tại:  3\n",
      "Máy tính đã nhập số: 3\n",
      "Tổng điểm hiện tại:  6\n",
      "Mời bạn nhập số (1-3): 3\n",
      "Tổng điểm hiện tại:  9\n",
      "Máy tính đã nhập số: 1\n",
      "Tổng điểm hiện tại:  10\n",
      "Mời bạn nhập số (1-3): 3\n",
      "Tổng điểm hiện tại:  13\n",
      "Máy tính đã nhập số: 3\n",
      "Tổng điểm hiện tại:  16\n",
      "Mời bạn nhập số (1-3): 2\n",
      "Tổng điểm hiện tại:  18\n",
      "Máy tính đã nhập số: 3\n",
      "Tổng điểm hiện tại:  21\n",
      "Bạn đã chiến thắng\n",
      "Kết thúc cuộc chơi\n",
      "Bạn có muốn tiếp tục chơi ? Y/Nn\n",
      "Chương trình đã kết thúc\n"
     ]
    }
   ],
   "source": [
    "# Game Sum of 21\n",
    "while True:\n",
    "    import random as r\n",
    "    s=0 # Tổng điểm cộng dồn\n",
    "    # n=0: người chơi được chơi trước\n",
    "    # n=1: máy tính được chơi trước\n",
    "    n=r.randint(0,1)\n",
    "    if n==0:\n",
    "        print('Bạn được chơi trước')\n",
    "    else:\n",
    "        print('Máy tính được chơi trước')\n",
    "    while s<21:\n",
    "        if n==1:\n",
    "            x=r.randint(1,3)\n",
    "            print('Máy tính đã nhập số:',x)\n",
    "            s=s+x\n",
    "            print('Tổng điểm hiện tại: ',s)\n",
    "            if s>=21:\n",
    "                print('Bạn đã chiến thắng')\n",
    "                break\n",
    "            while True:\n",
    "                y=int(input('Mời bạn nhập số (1-3): '))\n",
    "                if y==1 or y==2 or y==3 :\n",
    "                    break\n",
    "            # y=int(input('Mời bạn nhập số (1-3): '))\n",
    "            s=s+y\n",
    "            if s>=21:\n",
    "                print('Bạn đã thua')\n",
    "                break\n",
    "            print('Tổng điểm hiện tại: ',s)\n",
    "        else:\n",
    "            while True:\n",
    "                y=int(input('Mời bạn nhập số (1-3): '))\n",
    "                if y==1 or y==2 or y==3 :\n",
    "                    break\n",
    "            # y=int(input('Mời bạn nhập số (1-3): '))\n",
    "            s=s+y\n",
    "            if s>=21:\n",
    "                print('Bạn đã thua')\n",
    "                break\n",
    "            print('Tổng điểm hiện tại: ',s)\n",
    "            x=r.randint(1,3)\n",
    "            print('Máy tính đã nhập số:',x)\n",
    "            s=s+x\n",
    "            print('Tổng điểm hiện tại: ',s)\n",
    "            if s>=21:\n",
    "                print('Bạn đã chiến thắng')\n",
    "                break\n",
    "    print('Kết thúc cuộc chơi')\n",
    "    answer=input('Bạn có muốn tiếp tục chơi ? Y/N')\n",
    "    if answer=='Y':\n",
    "        print('Chương trình sẽ được tiếp tục trong giây lát')\n",
    "    else:\n",
    "        print('Chương trình đã kết thúc')\n",
    "        break"
   ]
  },
  {
   "cell_type": "code",
   "execution_count": null,
   "id": "b0404d9e",
   "metadata": {},
   "outputs": [],
   "source": []
  }
 ],
 "metadata": {
  "kernelspec": {
   "display_name": "Python 3 (ipykernel)",
   "language": "python",
   "name": "python3"
  },
  "language_info": {
   "codemirror_mode": {
    "name": "ipython",
    "version": 3
   },
   "file_extension": ".py",
   "mimetype": "text/x-python",
   "name": "python",
   "nbconvert_exporter": "python",
   "pygments_lexer": "ipython3",
   "version": "3.9.12"
  }
 },
 "nbformat": 4,
 "nbformat_minor": 5
}
