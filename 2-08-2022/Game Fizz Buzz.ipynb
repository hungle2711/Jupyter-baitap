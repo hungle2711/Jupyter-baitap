{
 "cells": [
  {
   "cell_type": "code",
   "execution_count": 1,
   "id": "ce1a8eac",
   "metadata": {},
   "outputs": [
    {
     "name": "stdout",
     "output_type": "stream",
     "text": [
      "Nhap so bat dau: 1\n",
      "Nhap so ket thuc: 9\n",
      "1, 2, Fizz 4, Buzz Fizz 7, 8, Fizz "
     ]
    }
   ],
   "source": [
    "a=input('Nhap so bat dau: ')\n",
    "b=input('Nhap so ket thuc: ')\n",
    "if a.isnumeric() and b.isnumeric() and(b>a):\n",
    "    list=[x for x in range(int(a),int(b)+1)]\n",
    "    for n in list:\n",
    "        if n%3!=0 and n%5!=0:\n",
    "            print(n,end=', ')\n",
    "        elif n%3==0 and n%5!=0:\n",
    "            print('Fizz',end=' ')\n",
    "        elif n%3!=0 and n%5==0:\n",
    "            print('Buzz',end=' ')\n",
    "        elif n%3==0 and n%5==0:\n",
    "            print('Fizz Buzz',end=' ')\n",
    "else:\n",
    "    print('So khong hop le')"
   ]
  },
  {
   "cell_type": "code",
   "execution_count": null,
   "id": "e49bdb88",
   "metadata": {},
   "outputs": [],
   "source": []
  }
 ],
 "metadata": {
  "kernelspec": {
   "display_name": "Python 3 (ipykernel)",
   "language": "python",
   "name": "python3"
  },
  "language_info": {
   "codemirror_mode": {
    "name": "ipython",
    "version": 3
   },
   "file_extension": ".py",
   "mimetype": "text/x-python",
   "name": "python",
   "nbconvert_exporter": "python",
   "pygments_lexer": "ipython3",
   "version": "3.9.12"
  }
 },
 "nbformat": 4,
 "nbformat_minor": 5
}
