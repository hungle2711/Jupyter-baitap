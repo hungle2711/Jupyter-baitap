{
 "cells": [
  {
   "cell_type": "code",
   "execution_count": null,
   "id": "d089c835",
   "metadata": {},
   "outputs": [],
   "source": [
    "n = 'Xin chào'\n",
    "a = 0\n",
    "while a < 7 :\n",
    "    print(f'n[{a}] = {n[a]}')\n",
    "    a +=1"
   ]
  },
  {
   "cell_type": "code",
   "execution_count": 2,
   "id": "7ab9bbc2",
   "metadata": {},
   "outputs": [
    {
     "name": "stdout",
     "output_type": "stream",
     "text": [
      "Nhập chuỗi bạn cần dùng: xin chào\n",
      "Nhập trường hợp mà bạn muốn với 1 là in hoa và 2 là in thường: 1\n",
      "Ta có chuỗi in hoa mới: XIN CHÀO\n"
     ]
    }
   ],
   "source": [
    "chuoi = str(input('Nhập chuỗi bạn cần dùng: '))\n",
    "n = int(input('Nhập trường hợp mà bạn muốn với 1 là in hoa và 2 là in thường: '))\n",
    "if n == 1:\n",
    "    print(f'Ta có chuỗi in hoa mới: {chuoi.upper()}') \n",
    "elif n == 2:\n",
    "    print(f'Ta có chuỗi viết thường mới: {chuoi.lower()}')\n",
    "# elif n != 1 and n != 2:\n",
    "#     n = int(input('Nhập n = 1 hoặc n = 2: '))"
   ]
  },
  {
   "cell_type": "code",
   "execution_count": null,
   "id": "bcbee007",
   "metadata": {},
   "outputs": [
    {
     "name": "stdout",
     "output_type": "stream",
     "text": [
      "Nhập chuỗi bạn cần dùng: xin chào\n",
      "Nhập trường hợp mà bạn muốn với 1 là in hoa và 2 là in thường: 3\n",
      "Vui lòng nhập lại n với n = 1 hoặc n = 2\n",
      "Nhập trường hợp mà bạn muốn với 1 là in hoa và 2 là in thường: 1\n",
      "Vui lòng nhập lại n với n = 1 hoặc n = 2\n",
      "Nhập trường hợp mà bạn muốn với 1 là in hoa và 2 là in thường: 2\n",
      "Vui lòng nhập lại n với n = 1 hoặc n = 2\n"
     ]
    }
   ],
   "source": [
    "chuoi = str(input('Nhập chuỗi bạn cần dùng: '))\n",
    "while True:\n",
    "    n = int(input('Nhập trường hợp mà bạn muốn với 1 là in hoa và 2 là in thường: '))\n",
    "    if n == 1 and n == 2 :\n",
    "        break\n",
    "    else: \n",
    "        print('Vui lòng nhập lại n với n = 1 hoặc n = 2')\n",
    "if n == 1:\n",
    "    print(f'Ta có chuỗi in hoa mới: {chuoi.upper()}') \n",
    "elif n == 2:\n",
    "    print(f'Ta có chuỗi viết thường mới: {chuoi.lower()}')"
   ]
  },
  {
   "cell_type": "code",
   "execution_count": null,
   "id": "e2103bff",
   "metadata": {},
   "outputs": [],
   "source": [
    "n = input('Nhập chuỗi cần dùng: ')\n",
    "print(f'Ta có chuỗi mới là:  {a.replace()}')"
   ]
  }
 ],
 "metadata": {
  "kernelspec": {
   "display_name": "Python 3 (ipykernel)",
   "language": "python",
   "name": "python3"
  },
  "language_info": {
   "codemirror_mode": {
    "name": "ipython",
    "version": 3
   },
   "file_extension": ".py",
   "mimetype": "text/x-python",
   "name": "python",
   "nbconvert_exporter": "python",
   "pygments_lexer": "ipython3",
   "version": "3.9.12"
  }
 },
 "nbformat": 4,
 "nbformat_minor": 5
}
