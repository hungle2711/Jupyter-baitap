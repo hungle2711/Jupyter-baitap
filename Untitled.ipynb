{
 "cells": [
  {
   "cell_type": "code",
   "execution_count": 4,
   "id": "a2e04ea5",
   "metadata": {},
   "outputs": [
    {
     "name": "stdout",
     "output_type": "stream",
     "text": [
      "Nhap ma nhan vien: 1\n",
      "Nhap tuoi nhan vien: 18\n",
      "[{'ten': 18}]\n"
     ]
    }
   ],
   "source": [
    "info_nhan_vien = {}\n",
    "\n",
    "def so_sanh(info_nhan_vien):\n",
    "    ma = input('Nhap ma nhan vien: ')\n",
    "    tuoi = int(input('Nhap tuoi nhan vien: '))\n",
    "    if ma in info_nhan_vien:\n",
    "        print(f'Nhan vien voi ma {ma} đã tồn tại.')\n",
    "    else:\n",
    "        info_nhan_vien[ma] = {\n",
    "            'ten' : tuoi\n",
    "        }\n",
    "    list_tuoi = sorted(info_nhan_vien.values())\n",
    "    print(list_tuoi)\n",
    "\n",
    "    \n",
    "so_sanh(info_nhan_vien)"
   ]
  },
  {
   "cell_type": "code",
   "execution_count": null,
   "id": "839ae4ad",
   "metadata": {},
   "outputs": [],
   "source": []
  }
 ],
 "metadata": {
  "kernelspec": {
   "display_name": "Python 3 (ipykernel)",
   "language": "python",
   "name": "python3"
  },
  "language_info": {
   "codemirror_mode": {
    "name": "ipython",
    "version": 3
   },
   "file_extension": ".py",
   "mimetype": "text/x-python",
   "name": "python",
   "nbconvert_exporter": "python",
   "pygments_lexer": "ipython3",
   "version": "3.9.12"
  }
 },
 "nbformat": 4,
 "nbformat_minor": 5
}
