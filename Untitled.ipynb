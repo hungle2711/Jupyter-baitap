{
 "cells": [
  {
   "cell_type": "code",
   "execution_count": 1,
   "id": "149fb884",
   "metadata": {},
   "outputs": [
    {
     "ename": "TypeError",
     "evalue": "'int' object is not subscriptable",
     "output_type": "error",
     "traceback": [
      "\u001b[1;31m---------------------------------------------------------------------------\u001b[0m",
      "\u001b[1;31mTypeError\u001b[0m                                 Traceback (most recent call last)",
      "Input \u001b[1;32mIn [1]\u001b[0m, in \u001b[0;36m<cell line: 3>\u001b[1;34m()\u001b[0m\n\u001b[0;32m      1\u001b[0m tuples \u001b[38;5;241m=\u001b[39m (\u001b[38;5;241m100\u001b[39m)\n\u001b[1;32m----> 3\u001b[0m a \u001b[38;5;241m=\u001b[39m \u001b[43mtuples\u001b[49m\u001b[43m[\u001b[49m\u001b[38;5;241;43m0\u001b[39;49m\u001b[43m]\u001b[49m\u001b[38;5;241m+\u001b[39m\u001b[38;5;241m200\u001b[39m\n\u001b[0;32m      5\u001b[0m \u001b[38;5;28mprint\u001b[39m(a)\n",
      "\u001b[1;31mTypeError\u001b[0m: 'int' object is not subscriptable"
     ]
    }
   ],
   "source": [
    "tuples = (100)\n",
    "\n",
    "a = tuples[0]+200\n",
    "\n",
    "print(a)"
   ]
  },
  {
   "cell_type": "code",
   "execution_count": 3,
   "id": "6e225968",
   "metadata": {},
   "outputs": [
    {
     "name": "stdout",
     "output_type": "stream",
     "text": [
      "10=50\n"
     ]
    }
   ],
   "source": [
    "tuples = (10, 20, 30, 0)\n",
    "\n",
    "(a, *b, c) = tuples\n",
    "\n",
    "a = a + c\n",
    "\n",
    "c = b[0] + b[1]\n",
    "\n",
    "print(a, c, sep=\"=\")"
   ]
  },
  {
   "cell_type": "code",
   "execution_count": 4,
   "id": "59fcee4e",
   "metadata": {},
   "outputs": [
    {
     "name": "stdout",
     "output_type": "stream",
     "text": [
      "0a"
     ]
    }
   ],
   "source": [
    "tuples1 = (10, 20, 30, 0)\n",
    "\n",
    "tuples2 = ('a', 'b')\n",
    "\n",
    "tuples3 = tuples1 + tuples2\n",
    "\n",
    "a = tuples3[3:5]\n",
    "\n",
    "for i in a:\n",
    "\n",
    "    print(i, end='')"
   ]
  },
  {
   "cell_type": "code",
   "execution_count": null,
   "id": "a2e04ea5",
   "metadata": {},
   "outputs": [],
   "source": []
  }
 ],
 "metadata": {
  "kernelspec": {
   "display_name": "Python 3 (ipykernel)",
   "language": "python",
   "name": "python3"
  },
  "language_info": {
   "codemirror_mode": {
    "name": "ipython",
    "version": 3
   },
   "file_extension": ".py",
   "mimetype": "text/x-python",
   "name": "python",
   "nbconvert_exporter": "python",
   "pygments_lexer": "ipython3",
   "version": "3.9.12"
  }
 },
 "nbformat": 4,
 "nbformat_minor": 5
}
