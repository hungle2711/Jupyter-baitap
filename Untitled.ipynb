{
 "cells": [
  {
   "cell_type": "code",
   "execution_count": 19,
   "id": "c236ec6a",
   "metadata": {},
   "outputs": [
    {
     "name": "stdout",
     "output_type": "stream",
     "text": [
      "nhập số nguyên dương a: 1\n",
      "nhập số nguyên dương b: 2\n"
     ]
    }
   ],
   "source": [
    "while True:\n",
    "    a = int(input(\"nhập số nguyên dương a: \"))\n",
    "    b = int(input(\"nhập số nguyên dương b: \"))\n",
    "    if (a>0 and (b>0)):\n",
    "        break\n",
    "def test(a,b):\n",
    "    if a<b<1000:\n",
    "        s = (a**2 + b**2 + 1)/(a*b)\n",
    "        if isinstance(s,int):\n",
    "            print(\"thỏa 2 điều kiện đề bài\")\n",
    "        else:\n",
    "            print(\"chỉ thỏa 1 điều kiện đề bài là a<b<1000\")\n",
    "    else:\n",
    "        print(\"không thỏa 2 điều kiện đề bài\")\n",
    "test(a,b)"
   ]
  },
  {
   "cell_type": "code",
   "execution_count": 17,
   "id": "819f7e27",
   "metadata": {},
   "outputs": [
    {
     "name": "stdout",
     "output_type": "stream",
     "text": [
      "nhập số tiền N (bỏ 3 số 0 đuôi): 132465\n",
      "phương án tối ưu là 26493 tờ 5.000\n"
     ]
    }
   ],
   "source": [
    "while True:\n",
    "    n = int(input(\"nhập số tiền N (bỏ 3 số 0 đuôi): \"))\n",
    "    if n > 0:\n",
    "        break\n",
    "def exchange(n):\n",
    "    t5k = n//5\n",
    "    td = n%5\n",
    "    if td == 0:\n",
    "        print(f\"phương án tối ưu là {t5k} tờ 5.000\")\n",
    "    else:\n",
    "        t2k = td // 2\n",
    "        td2k = td % 2\n",
    "        if td2k == 0:\n",
    "            print(f\"phương án tối ưu là {t5k} tờ 5.000 và {t2k} tờ 2.000\")\n",
    "        else:\n",
    "            print(f\"phương án tối ưu là {t5k} tờ 5.000 và {t2k} tờ 2.000 và {td2k} tờ 1.000\")\n",
    "exchange(n)"
   ]
  },
  {
   "cell_type": "code",
   "execution_count": null,
   "id": "e0b19b25",
   "metadata": {},
   "outputs": [],
   "source": []
  }
 ],
 "metadata": {
  "kernelspec": {
   "display_name": "Python 3 (ipykernel)",
   "language": "python",
   "name": "python3"
  },
  "language_info": {
   "codemirror_mode": {
    "name": "ipython",
    "version": 3
   },
   "file_extension": ".py",
   "mimetype": "text/x-python",
   "name": "python",
   "nbconvert_exporter": "python",
   "pygments_lexer": "ipython3",
   "version": "3.9.12"
  }
 },
 "nbformat": 4,
 "nbformat_minor": 5
}
