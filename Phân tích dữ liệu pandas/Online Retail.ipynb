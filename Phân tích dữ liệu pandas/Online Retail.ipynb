{
 "cells": [
  {
   "cell_type": "code",
   "execution_count": 5,
   "id": "c7b15ade-696f-47ba-9704-b2bed8653163",
   "metadata": {},
   "outputs": [
    {
     "name": "stdout",
     "output_type": "stream",
     "text": [
      "Số dòng dữ liệu:  541909\n",
      "Số cột dữ liệu:  8\n"
     ]
    }
   ],
   "source": [
    "import pandas as pd\n",
    "data=pd.read_csv('C:\\\\Users\\\\hungu\\\\Jupyter baitap\\\\DATA\\\\DA - Datasets\\\\OnlineRetail.csv', encoding = \"ISO-8859-1\")\n",
    "# hiển thị 5 dòng dữ liệu đầu tiên\n",
    "print(\"Số dòng dữ liệu: \",data.shape[0])\n",
    "print(\"Số cột dữ liệu: \",data.shape[1])"
   ]
  },
  {
   "cell_type": "code",
   "execution_count": 6,
   "id": "97e96499-4103-431e-9648-41d074172681",
   "metadata": {},
   "outputs": [
    {
     "name": "stdout",
     "output_type": "stream",
     "text": [
      "<class 'pandas.core.frame.DataFrame'>\n",
      "RangeIndex: 541909 entries, 0 to 541908\n",
      "Data columns (total 8 columns):\n",
      " #   Column       Non-Null Count   Dtype  \n",
      "---  ------       --------------   -----  \n",
      " 0   InvoiceNo    541909 non-null  object \n",
      " 1   StockCode    541909 non-null  object \n",
      " 2   Description  540455 non-null  object \n",
      " 3   Quantity     541909 non-null  int64  \n",
      " 4   InvoiceDate  541909 non-null  object \n",
      " 5   UnitPrice    541909 non-null  float64\n",
      " 6   CustomerID   406829 non-null  float64\n",
      " 7   Country      541909 non-null  object \n",
      "dtypes: float64(2), int64(1), object(5)\n",
      "memory usage: 33.1+ MB\n"
     ]
    }
   ],
   "source": [
    "data.info()"
   ]
  },
  {
   "cell_type": "code",
   "execution_count": 3,
   "id": "5bc27333-6fbd-4b0d-be93-80b335cf0e11",
   "metadata": {},
   "outputs": [
    {
     "name": "stdout",
     "output_type": "stream",
     "text": [
      "số lượng các quốc gia: 38\n"
     ]
    }
   ],
   "source": [
    "country = data.Country.unique()\n",
    "print (\"số lượng các quốc gia: \" + str(country.size))"
   ]
  },
  {
   "cell_type": "code",
   "execution_count": 4,
   "id": "d88023d3-f035-46e4-8d78-d6b1ee87c47e",
   "metadata": {},
   "outputs": [
    {
     "name": "stdout",
     "output_type": "stream",
     "text": [
      "số lượng hóa đơn bán ra: 1\n",
      "Tổng doanh thu: 9747747.933999998\n"
     ]
    }
   ],
   "source": [
    "data['total'] = data['Quantity'] * data['UnitPrice'] \n",
    "\n",
    "# Giá trị đơn hàng của mỗi đơn hàng\n",
    "total_invoices = data['total'].sum()\n",
    "print (\"số lượng hóa đơn bán ra: \"+ str (total_invoices.size))\n",
    "print (\"Tổng doanh thu: \" + str(total_invoices.sum()))"
   ]
  },
  {
   "cell_type": "code",
   "execution_count": 5,
   "id": "aa380fdd-fe8b-4df0-8513-da743de81cf9",
   "metadata": {},
   "outputs": [
    {
     "data": {
      "text/plain": [
       "StockCode  Description                       \n",
       "84077      WORLD WAR 2 GLIDERS ASSTD DESIGNS     53847\n",
       "85099B     JUMBO BAG RED RETROSPOT               47363\n",
       "84879      ASSORTED COLOUR BIRD ORNAMENT         36381\n",
       "22197      POPCORN HOLDER                        36334\n",
       "21212      PACK OF 72 RETROSPOT CAKE CASES       36039\n",
       "85123A     WHITE HANGING HEART T-LIGHT HOLDER    35025\n",
       "23084      RABBIT NIGHT LIGHT                    30680\n",
       "22492      MINI PAINT SET VINTAGE                26437\n",
       "22616      PACK OF 12 LONDON TISSUES             26315\n",
       "21977      PACK OF 60 PINK PAISLEY CAKE CASES    24753\n",
       "Name: Quantity, dtype: int64"
      ]
     },
     "execution_count": 5,
     "metadata": {},
     "output_type": "execute_result"
    }
   ],
   "source": [
    "quantity_product = data.groupby(['StockCode', 'Description'])['Quantity'].sum().sort_values(ascending= False)\n",
    "quantity_product.head(10)"
   ]
  },
  {
   "cell_type": "code",
   "execution_count": 6,
   "id": "fc92efe0-8c03-46d1-b925-fc40d9894623",
   "metadata": {},
   "outputs": [
    {
     "data": {
      "text/plain": [
       "StockCode  Description                       \n",
       "DOT        DOTCOM POSTAGE                        206245.48\n",
       "22423      REGENCY CAKESTAND 3 TIER              164762.19\n",
       "47566      PARTY BUNTING                          98302.98\n",
       "85123A     WHITE HANGING HEART T-LIGHT HOLDER     97715.99\n",
       "85099B     JUMBO BAG RED RETROSPOT                92356.03\n",
       "23084      RABBIT NIGHT LIGHT                     66756.59\n",
       "POST       POSTAGE                                66230.64\n",
       "22086      PAPER CHAIN KIT 50'S CHRISTMAS         63791.94\n",
       "84879      ASSORTED COLOUR BIRD ORNAMENT          58959.73\n",
       "79321      CHILLI LIGHTS                          53768.06\n",
       "Name: total, dtype: float64"
      ]
     },
     "execution_count": 6,
     "metadata": {},
     "output_type": "execute_result"
    }
   ],
   "source": [
    "quantity_product = data.groupby(['StockCode', 'Description'])['total'].sum().sort_values(ascending= False)\n",
    "quantity_product.head(10)"
   ]
  },
  {
   "cell_type": "code",
   "execution_count": null,
   "id": "e134a98c-3606-4cf5-aa6a-34a132ead098",
   "metadata": {},
   "outputs": [],
   "source": []
  }
 ],
 "metadata": {
  "kernelspec": {
   "display_name": "Python 3 (ipykernel)",
   "language": "python",
   "name": "python3"
  },
  "language_info": {
   "codemirror_mode": {
    "name": "ipython",
    "version": 3
   },
   "file_extension": ".py",
   "mimetype": "text/x-python",
   "name": "python",
   "nbconvert_exporter": "python",
   "pygments_lexer": "ipython3",
   "version": "3.9.12"
  }
 },
 "nbformat": 4,
 "nbformat_minor": 5
}
