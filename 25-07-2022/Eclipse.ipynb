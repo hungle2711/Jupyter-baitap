{
 "cells": [
  {
   "cell_type": "code",
   "execution_count": null,
   "id": "e173596c",
   "metadata": {},
   "outputs": [],
   "source": [
    "import turtle\n",
    "def draw(rad):\n",
    "    for i in range(2):\n",
    "        turtle.circle(rad,90)\n",
    "        turtle.circle(rad//2,90)\n",
    "\n",
    "turtle.seth(-45)\n",
    "\n",
    "draw(100)"
   ]
  },
  {
   "cell_type": "code",
   "execution_count": null,
   "id": "33b30f80",
   "metadata": {},
   "outputs": [],
   "source": []
  }
 ],
 "metadata": {
  "kernelspec": {
   "display_name": "Python 3 (ipykernel)",
   "language": "python",
   "name": "python3"
  },
  "language_info": {
   "codemirror_mode": {
    "name": "ipython",
    "version": 3
   },
   "file_extension": ".py",
   "mimetype": "text/x-python",
   "name": "python",
   "nbconvert_exporter": "python",
   "pygments_lexer": "ipython3",
   "version": "3.9.12"
  }
 },
 "nbformat": 4,
 "nbformat_minor": 5
}
