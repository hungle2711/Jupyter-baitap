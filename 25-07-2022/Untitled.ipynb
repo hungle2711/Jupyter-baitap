{
 "cells": [
  {
   "cell_type": "code",
   "execution_count": 2,
   "id": "7ec832fe",
   "metadata": {},
   "outputs": [
    {
     "name": "stdout",
     "output_type": "stream",
     "text": [
      "2 4 6 8 10 "
     ]
    }
   ],
   "source": [
    "i = 0\n",
    "\n",
    "while i < 10:\n",
    "\n",
    "    i += 2\n",
    "\n",
    "    print(i, end=' ')"
   ]
  },
  {
   "cell_type": "code",
   "execution_count": 3,
   "id": "44eecc42",
   "metadata": {},
   "outputs": [
    {
     "name": "stdout",
     "output_type": "stream",
     "text": [
      "7 4 1 -2 "
     ]
    }
   ],
   "source": [
    "i = 10\n",
    "\n",
    "while i > 0:\n",
    "\n",
    "    i -= 3\n",
    "\n",
    "    print(i, end=' ')"
   ]
  },
  {
   "cell_type": "code",
   "execution_count": 9,
   "id": "15dc9494",
   "metadata": {},
   "outputs": [
    {
     "name": "stdout",
     "output_type": "stream",
     "text": [
      "914a\n"
     ]
    }
   ],
   "source": [
    "i = 0\n",
    "\n",
    "j = 20\n",
    "\n",
    "while True:\n",
    "\n",
    "    j -= 2\n",
    "\n",
    "    i += 3\n",
    "\n",
    "    if i >= j:\n",
    "\n",
    "        break\n",
    "\n",
    "    if j > 15:\n",
    "\n",
    "        continue\n",
    "\n",
    "    print(i, j, sep='', end='')\n",
    "\n",
    "else:\n",
    "\n",
    "    print(j, end='')\n",
    "\n",
    "print('a')"
   ]
  },
  {
   "cell_type": "code",
   "execution_count": null,
   "id": "a3dbc31e",
   "metadata": {},
   "outputs": [],
   "source": []
  }
 ],
 "metadata": {
  "kernelspec": {
   "display_name": "Python 3 (ipykernel)",
   "language": "python",
   "name": "python3"
  },
  "language_info": {
   "codemirror_mode": {
    "name": "ipython",
    "version": 3
   },
   "file_extension": ".py",
   "mimetype": "text/x-python",
   "name": "python",
   "nbconvert_exporter": "python",
   "pygments_lexer": "ipython3",
   "version": "3.9.12"
  }
 },
 "nbformat": 4,
 "nbformat_minor": 5
}
