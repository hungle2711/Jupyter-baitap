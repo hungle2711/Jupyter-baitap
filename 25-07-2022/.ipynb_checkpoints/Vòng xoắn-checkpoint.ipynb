{
 "cells": [
  {
   "cell_type": "code",
   "execution_count": 1,
   "id": "bee6c151",
   "metadata": {},
   "outputs": [
    {
     "name": "stdout",
     "output_type": "stream",
     "text": [
      "Nhap khoang cach toi da (100-300): 200\n"
     ]
    }
   ],
   "source": [
    "import turtle\n",
    "import tkinter\n",
    "\n",
    "d0=int(input('Nhap khoang cach toi da (100-300): '))\n",
    "screen=turtle.Screen()\n",
    "screen.setup(800,800)\n",
    "screen.title('Ve hinh xoan oc')\n",
    "pen=turtle.Turtle()\n",
    "pen.pensize(2)\n",
    "pen.color('black')\n",
    "pen.penup()\n",
    "pen.goto(0,0)\n",
    "pen.speed(0)\n",
    "pen.pendown()\n",
    "for i in range(1,1000):\n",
    "    pen.left(10)\n",
    "    pen.fd(1+0.1*i)\n",
    "    d1=turtle.distance(pen)\n",
    "    if d1>=d0:\n",
    "        break\n",
    "tkinter.mainloop()"
   ]
  },
  {
   "cell_type": "code",
   "execution_count": null,
   "id": "798434f0",
   "metadata": {},
   "outputs": [],
   "source": []
  }
 ],
 "metadata": {
  "kernelspec": {
   "display_name": "Python 3 (ipykernel)",
   "language": "python",
   "name": "python3"
  },
  "language_info": {
   "codemirror_mode": {
    "name": "ipython",
    "version": 3
   },
   "file_extension": ".py",
   "mimetype": "text/x-python",
   "name": "python",
   "nbconvert_exporter": "python",
   "pygments_lexer": "ipython3",
   "version": "3.9.12"
  }
 },
 "nbformat": 4,
 "nbformat_minor": 5
}
