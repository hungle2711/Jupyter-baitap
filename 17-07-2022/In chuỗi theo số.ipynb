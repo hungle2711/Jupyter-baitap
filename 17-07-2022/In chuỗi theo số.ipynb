{
 "cells": [
  {
   "cell_type": "code",
   "execution_count": 2,
   "id": "e5364a03",
   "metadata": {},
   "outputs": [
    {
     "name": "stdout",
     "output_type": "stream",
     "text": [
      "Chọn chuỗi in ra (1,2,3): 1\n",
      "1.HN \n"
     ]
    }
   ],
   "source": [
    "n=int(input('Chọn chuỗi in ra (1,2,3): '))\n",
    "Chuoi='1.HN 2.DN 3.HCM'\n",
    "Chuoi1 = Chuoi[:5]\n",
    "Chuoi2 = Chuoi[5:10]\n",
    "Chuoi3 = Chuoi[10:]\n",
    "if n==1:\n",
    "    print(Chuoi1)\n",
    "elif n==2:\n",
    "    print(Chuoi2)\n",
    "elif n==3:\n",
    "    print(Chuoi3)\n",
    "else:\n",
    "    pass"
   ]
  },
  {
   "cell_type": "code",
   "execution_count": null,
   "id": "679af668",
   "metadata": {},
   "outputs": [],
   "source": []
  }
 ],
 "metadata": {
  "kernelspec": {
   "display_name": "Python 3 (ipykernel)",
   "language": "python",
   "name": "python3"
  },
  "language_info": {
   "codemirror_mode": {
    "name": "ipython",
    "version": 3
   },
   "file_extension": ".py",
   "mimetype": "text/x-python",
   "name": "python",
   "nbconvert_exporter": "python",
   "pygments_lexer": "ipython3",
   "version": "3.9.12"
  }
 },
 "nbformat": 4,
 "nbformat_minor": 5
}
