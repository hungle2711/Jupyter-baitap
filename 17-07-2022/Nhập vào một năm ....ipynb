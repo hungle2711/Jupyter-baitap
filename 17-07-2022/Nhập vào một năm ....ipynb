{
 "cells": [
  {
   "cell_type": "code",
   "execution_count": 1,
   "id": "eb05a0cd",
   "metadata": {},
   "outputs": [
    {
     "name": "stdout",
     "output_type": "stream",
     "text": [
      "Nhập một năm bất kỳ: 1999\n",
      "Năm trước của 1999 là:  1998\n",
      "Năm sau của 1999 là:  2000\n"
     ]
    }
   ],
   "source": [
    "year = int(input(\"Nhập một năm bất kỳ: \"))\n",
    "print(\"Năm trước của\" , year , \"là: \", year-1)\n",
    "print(\"Năm sau của\" , year , \"là: \", year+1)"
   ]
  },
  {
   "cell_type": "code",
   "execution_count": null,
   "id": "2633dc0c",
   "metadata": {},
   "outputs": [],
   "source": []
  }
 ],
 "metadata": {
  "kernelspec": {
   "display_name": "Python 3 (ipykernel)",
   "language": "python",
   "name": "python3"
  },
  "language_info": {
   "codemirror_mode": {
    "name": "ipython",
    "version": 3
   },
   "file_extension": ".py",
   "mimetype": "text/x-python",
   "name": "python",
   "nbconvert_exporter": "python",
   "pygments_lexer": "ipython3",
   "version": "3.9.12"
  }
 },
 "nbformat": 4,
 "nbformat_minor": 5
}
