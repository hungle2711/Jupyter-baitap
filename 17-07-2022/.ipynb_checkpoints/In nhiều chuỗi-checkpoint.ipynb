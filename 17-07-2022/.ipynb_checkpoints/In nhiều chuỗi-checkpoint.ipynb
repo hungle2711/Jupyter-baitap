{
 "cells": [
  {
   "cell_type": "code",
   "execution_count": 1,
   "id": "b751d318",
   "metadata": {},
   "outputs": [
    {
     "name": "stdout",
     "output_type": "stream",
     "text": [
      "Nhập chuỗi cần lặp: abc\n",
      "abcabcabcabc\n"
     ]
    }
   ],
   "source": [
    "#In ra chuỗi cùng một hàng\n",
    "A = input(\"Nhập chuỗi cần lặp: \")\n",
    "\n",
    "print(A*4)\n",
    "\n",
    "#In ra chuỗi khác hàng\n",
    "A = input(\"Nhập chuỗi cần lặp: \")\n",
    "\n",
    "print(A)\n",
    "print(A)\n",
    "print(A)"
   ]
  }
 ],
 "metadata": {
  "kernelspec": {
   "display_name": "Python 3 (ipykernel)",
   "language": "python",
   "name": "python3"
  },
  "language_info": {
   "codemirror_mode": {
    "name": "ipython",
    "version": 3
   },
   "file_extension": ".py",
   "mimetype": "text/x-python",
   "name": "python",
   "nbconvert_exporter": "python",
   "pygments_lexer": "ipython3",
   "version": "3.9.12"
  }
 },
 "nbformat": 4,
 "nbformat_minor": 5
}
