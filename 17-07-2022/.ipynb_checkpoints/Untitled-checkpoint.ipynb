{
 "cells": [
  {
   "cell_type": "code",
   "execution_count": null,
   "id": "ca17d837",
   "metadata": {},
   "outputs": [],
   "source": [
    "A = input('Nhập vào một câu: ')\n",
    "B = int(input('Nhập số ký tự đảo ngược: '))\n",
    "\n",
    "list1 = list(A)    \n",
    "list1a = list1[:B] \n",
    "list1b = list1[B:]\n",
    "list1a.reverse()\n",
    "list2 = list1a + list1b\n",
    "print(''.join(list2))"
   ]
  }
 ],
 "metadata": {
  "kernelspec": {
   "display_name": "Python 3 (ipykernel)",
   "language": "python",
   "name": "python3"
  },
  "language_info": {
   "codemirror_mode": {
    "name": "ipython",
    "version": 3
   },
   "file_extension": ".py",
   "mimetype": "text/x-python",
   "name": "python",
   "nbconvert_exporter": "python",
   "pygments_lexer": "ipython3",
   "version": "3.9.12"
  }
 },
 "nbformat": 4,
 "nbformat_minor": 5
}
